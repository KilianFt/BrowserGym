{
 "cells": [
  {
   "cell_type": "markdown",
   "metadata": {},
   "source": [
    "# Simple MCTS\n",
    "This notebook investigates using MCTS for a single static website where multiple actions have to be done to achieve an answer.\n",
    "\n",
    "The task is to order a macbook with certain configurations. This website was chosen over others because it does not change upon selecting certain elements, which substantially simplifies testing as a website can simply be cached.\n",
    "\n",
    "The start domain is [this page](https://www.apple.com/shop/buy-mac/macbook-pro/14-inch-space-gray-apple-m3-chip-with-8-core-cpu-and-10-core-gpu-8gb-memory-512gb) with the prompt \"order a macbook pro 14 with 24 gb, 2 tb, fast charging and all available software\"\n",
    "\n",
    "Command to run this:\n",
    "```\n",
    "python run_demo.py --task_name openended --model_name openai/gpt-4o-mini --start_url https://www.apple.com/shop/buy-mac/macbook-pro/14-inch-space-gray-apple-m3-chip-with-8-core-cpu-and-10-core-gpu-8gb-memory-512gb\n",
    "```"
   ]
  },
  {
   "cell_type": "markdown",
   "metadata": {},
   "source": [
    "## Setup and load cached website"
   ]
  },
  {
   "cell_type": "code",
   "execution_count": 477,
   "metadata": {},
   "outputs": [],
   "source": [
    "website = \"https://www.apple.com/shop/buy-mac/macbook-pro/14-inch-space-gray-apple-m3-chip-with-8-core-cpu-and-10-core-gpu-8gb-memory-512gb\"\n",
    "\n",
    "human_prompt = \"order a macbook pro 14 with 24 gb ram, 2 tb, fast charging and all available software\""
   ]
  },
  {
   "cell_type": "code",
   "execution_count": 1,
   "metadata": {},
   "outputs": [],
   "source": [
    "# ideal actions are:\n",
    "# ideal_actions = [\n",
    "#     \"click(1007)\",  # Select 24GB unified memory\n",
    "#     \"click(1038)\",  # Select 2TB SSD storage\n",
    "#     \"click(1061)\",  # Select 96W USB-C Power Adapter\n",
    "#     \"click(1112)\",  # Select Final Cut Pro software\n",
    "#     \"click(1135)\",  # Select Logic Pro software\n",
    "#     \"click(1209)\",  # Add to bag\n",
    "# ]\n",
    "ideal_actions = [\n",
    "    'click(1008)',\n",
    "    'click(1039)',\n",
    "    'click(1062)',\n",
    "    'click(1113)',\n",
    "    'click(1136)',\n",
    "    'click(1209)'\n",
    "    ]"
   ]
  },
  {
   "cell_type": "code",
   "execution_count": 2,
   "metadata": {},
   "outputs": [],
   "source": [
    "txt_file = \"../output_example_2.txt\"\n",
    "with open(txt_file, 'r') as file:\n",
    "    lines = file.readlines()\n",
    "\n",
    "system_messages = []\n",
    "prompts = []\n",
    "actions = []\n",
    "\n",
    "current_section = None\n",
    "\n",
    "for line in lines:\n",
    "    if line.startswith(\"System Message:\"):\n",
    "        current_section = \"System Message\"\n",
    "    elif line.startswith(\"Prompt:\"):\n",
    "        current_section = \"Prompt\"\n",
    "    elif line.startswith(\"Action:\"):\n",
    "        current_section = \"Action\"\n",
    "    else:\n",
    "        if current_section == \"System Message\":\n",
    "            system_messages.append(line)\n",
    "        elif current_section == \"Prompt\":\n",
    "            prompts.append(line)\n",
    "        elif current_section == \"Action\":\n",
    "            actions.append(line)\n",
    "\n",
    "system_prompt = system_messages[0].split(\"content='\")[-1].strip()\n",
    "base_prompt = prompts[0].split(\"content=\\'\")[-1].strip()\n",
    "# ideal_actions = actions[:6]"
   ]
  },
  {
   "cell_type": "code",
   "execution_count": 3,
   "metadata": {},
   "outputs": [
    {
     "name": "stderr",
     "output_type": "stream",
     "text": [
      "/opt/homebrew/anaconda3/envs/agents/lib/python3.12/site-packages/tqdm/auto.py:21: TqdmWarning: IProgress not found. Please update jupyter and ipywidgets. See https://ipywidgets.readthedocs.io/en/stable/user_install.html\n",
      "  from .autonotebook import tqdm as notebook_tqdm\n"
     ]
    }
   ],
   "source": [
    "import sys\n",
    "sys.path.append(\"../demo_agent\")\n",
    "from agents.legacy.dynamic_prompting import Think, Memory, ActionSpace, Flags\n",
    "\n",
    "flags=Flags(\n",
    "    use_html=True,\n",
    "    use_ax_tree=True,\n",
    "    use_thinking=True,  # \"Enable the agent with a memory (scratchpad).\"\n",
    "    use_error_logs=True,  # \"Prompt the agent with the error logs.\"\n",
    "    use_memory=False,  # \"Enables the agent with a memory (scratchpad).\"\n",
    "    use_history=True,\n",
    "    use_diff=False,  # \"Prompt the agent with the difference between the current and past observation.\"\n",
    "    use_past_error_logs=True,  # \"Prompt the agent with the past error logs.\"\n",
    "    use_action_history=True,  # \"Prompt the agent with the action history.\"\n",
    "    multi_actions=True,\n",
    "    action_space=\"bid\",\n",
    "    use_abstract_example=True,  # \"Prompt the agent with an abstract example.\"\n",
    "    use_concrete_example=True,  # \"Prompt the agent with a concrete example.\"\n",
    "    use_screenshot=False,\n",
    "    enable_chat=True,\n",
    "    demo_mode=\"default\",\n",
    ")\n",
    "\n",
    "think = Think(visible=lambda: flags.use_thinking)\n",
    "memory = Memory(visible=lambda: flags.use_memory)\n",
    "action_space = ActionSpace(flags)\n",
    "\n",
    "def parser(text_answer):\n",
    "    ans_dict = {}\n",
    "    try:\n",
    "        ans_dict.update(think._parse_answer(text_answer))\n",
    "        ans_dict.update(memory._parse_answer(text_answer))\n",
    "        ans_dict.update(action_space._parse_answer(text_answer))\n",
    "    except Exception as e:\n",
    "        ans_dict['action'] = None\n",
    "        ans_dict['think'] = None\n",
    "\n",
    "    return ans_dict, True, \"\""
   ]
  },
  {
   "cell_type": "code",
   "execution_count": 78,
   "metadata": {},
   "outputs": [],
   "source": [
    "from langchain_openai import ChatOpenAI\n",
    "from langchain.schema import HumanMessage, SystemMessage\n",
    "\n",
    "\n",
    "with open(\"../openai_key.txt\", \"r\") as file:\n",
    "    api_key = file.read().strip()\n",
    "\n",
    "model = ChatOpenAI(\n",
    "            model_name=\"gpt-4o-mini\",\n",
    "            temperature=0.0,\n",
    "            max_tokens=2_000,\n",
    "            api_key=api_key\n",
    "        ).bind(logprobs=True)"
   ]
  },
  {
   "cell_type": "markdown",
   "metadata": {},
   "source": [
    "## Preliminaries: clean html and build prompts"
   ]
  },
  {
   "cell_type": "code",
   "execution_count": 5,
   "metadata": {},
   "outputs": [],
   "source": [
    "import re\n",
    "from html.parser import HTMLParser\n",
    "\n",
    "class HTMLCleaner(HTMLParser):\n",
    "    def __init__(self):\n",
    "        super().__init__()\n",
    "        self.output = []\n",
    "        self.tag_stack = []\n",
    "        self.current_content = []\n",
    "        self.interactive_elements = {\n",
    "            'a', 'button', 'input', 'select', 'textarea', 'label', 'fieldset',\n",
    "            'legend', 'datalist', 'output', 'option', 'optgroup'\n",
    "        }\n",
    "\n",
    "    def is_interactive(self, tag, attrs):\n",
    "        if tag.lower() in self.interactive_elements:\n",
    "            return True\n",
    "        return any(attr[0] == 'onclick' for attr in attrs)\n",
    "\n",
    "    def handle_starttag(self, tag, attrs):\n",
    "        if tag.lower() == 'img':\n",
    "            return\n",
    "        \n",
    "        is_interactive = self.is_interactive(tag, attrs)\n",
    "        bid_attr = next((attr for attr in attrs if attr[0] == 'bid'), None)\n",
    "        \n",
    "        if bid_attr and not is_interactive:\n",
    "            bid_attr = None\n",
    "\n",
    "        self.tag_stack.append((tag, bid_attr, len(self.output)))\n",
    "        self.current_content.append([])\n",
    "\n",
    "    def handle_endtag(self, tag):\n",
    "        if tag.lower() == 'img':\n",
    "            return\n",
    "\n",
    "        if self.tag_stack and self.tag_stack[-1][0] == tag:\n",
    "            start_tag, bid_attr, start_index = self.tag_stack.pop()\n",
    "            content = ''.join(self.current_content.pop()).strip()\n",
    "\n",
    "            if content:\n",
    "                if bid_attr:\n",
    "                    self.output.insert(start_index, f'<{start_tag} bid=\"{bid_attr[1]}\">')\n",
    "                else:\n",
    "                    self.output.insert(start_index, f'<{start_tag}>')\n",
    "                self.output.append(content)\n",
    "                self.output.append(f'</{tag}>')\n",
    "\n",
    "            if self.current_content:\n",
    "                self.current_content[-1].extend(self.output[start_index:])\n",
    "                del self.output[start_index:]\n",
    "\n",
    "    def handle_data(self, data):\n",
    "        normalized_data = re.sub(r'(\\\\n|\\n|\\r)+', '', data)\n",
    "        normalized_data = re.sub(r'\\s+', ' ', normalized_data)\n",
    "        if self.current_content:\n",
    "            self.current_content[-1].append(normalized_data)\n",
    "        else:\n",
    "            self.output.append(normalized_data)\n",
    "\n",
    "def clean_html(html_content):\n",
    "    html_content = html_content.replace('\\\\n', '\\n')\n",
    "    cleaner = HTMLCleaner()\n",
    "    cleaner.feed(html_content)\n",
    "    return ''.join(cleaner.output).strip()"
   ]
  },
  {
   "cell_type": "code",
   "execution_count": 6,
   "metadata": {},
   "outputs": [
    {
     "data": {
      "text/plain": [
       "(288727, 32333)"
      ]
     },
     "execution_count": 6,
     "metadata": {},
     "output_type": "execute_result"
    }
   ],
   "source": [
    "html = base_prompt.split(\"# \")[4]\n",
    "c_html = clean_html(html)\n",
    "len(html), len(c_html)"
   ]
  },
  {
   "cell_type": "code",
   "execution_count": 7,
   "metadata": {},
   "outputs": [
    {
     "data": {
      "text/plain": [
       "True"
      ]
     },
     "execution_count": 7,
     "metadata": {},
     "output_type": "execute_result"
    }
   ],
   "source": [
    "all([ia[6:10] in c_html for ia in ideal_actions])"
   ]
  },
  {
   "cell_type": "code",
   "execution_count": 212,
   "metadata": {},
   "outputs": [],
   "source": [
    "concrete_example = \"\"\"\n",
    "Concrete Example:\\\\n\\\\nHere is a concrete example of how to think about next options.\n",
    "Make sure you follow this structure, but replace the content with your answer. The following example is when you did not take any actions yet:\n",
    "\\\\n\\\\n<think>\\\\n\n",
    "Currently I see xxx on the page. Given that I did not take any actions yet, nothing is yet achieved.\\\\n\n",
    "1) Nothing\n",
    "\n",
    "The 5-10 possible next steps to achieve the goal are: \n",
    "1) fill in yy to achieve bb\n",
    "2) show more information for option xx\n",
    "3) select the configuration for the product\n",
    "4) click on the field that goes to page xx \n",
    "5) go to page yyy by clicking xxx.\\\\n \n",
    "The amount of actions should equal the amount of goals. Now I will predict the corresponding actions for the above goals without writing any further comments. \\\\n\n",
    "\\\\n</think>\\\\n\\\\n<action>\\\\\n",
    "fill(yyy, zzz)\n",
    "click(123)\n",
    "click(456)\n",
    "click(789)\n",
    "click(1415)\n",
    "\\\\n</action>\\\\n\\\\n\n",
    "\n",
    "Next, there is an example of a concrete example with 3 actions taken so far:\n",
    "\\\\n\\\\n<think>\\\\n\n",
    "Currently I see xxx on the page. Now I summarize what happened by my last actions\n",
    "1) I clicked on click(6543) which does xxx\n",
    "2) I clicked on click(7543) which expands the list about yyy\n",
    "3) I filled in field yyy with zzz\n",
    "\n",
    "Given what I already done, the 5-10 possible next steps to achieve the goal are: \n",
    "1) click on the extra memory button \n",
    "2) expand the list with bid 2341 \n",
    "3) fill in field yyy with zzz \n",
    "4) click on the field that completes the order \n",
    "5) select the option u \n",
    "6) click no the home button \n",
    "7) finish the task by clicking on the final button.\\\\n \n",
    "The amount of actions should equal the amount of goals. Now I will predict the corresponding actions for the above goals without writing any further comments. \\\\n\n",
    "\\\\n</think>\\\\n\\\\n<action>\\\\\n",
    "click(648)\n",
    "click(2341)\n",
    "fill(yyy, zzz)\n",
    "click(123)\n",
    "click(456)\n",
    "click(789)\n",
    "click(3214)\n",
    "</action>\\\\n\\\\n\n",
    "\"\"\""
   ]
  },
  {
   "cell_type": "code",
   "execution_count": null,
   "metadata": {},
   "outputs": [],
   "source": [
    "# 7) return to the latest page \n",
    "# 8) select dropdown to search for option yyy \n",
    "# 9) click button n for xx\n",
    "\n",
    "# click(1011)\n",
    "# click(1213)\n",
    "# click(1415)"
   ]
  },
  {
   "cell_type": "code",
   "execution_count": 213,
   "metadata": {},
   "outputs": [],
   "source": [
    "simple_action_space = \"\"\"Action space:\\\\n\\\\1 type of actions are available.\\\\n\\\\nclick(bid: int)\\\\n    Description: Click an element.\\\\n    Examples:\\\\n        click(\\\\\\'151\\\\\\')\\\\n\\\\n    Multiple actions can be provided at once, but will be executed sequentially without any feedback from the page.\\\\nExample:\\\\nfill(\\\\\\'a12\\\\\\', \\\\\\'example with \"quotes\"\\\\\\')\\\\nclick(\\\\\\'a51\\\\\\')\\\\nclick(\\\\\\'48\\\\\\', button=\\\\\\'middle\\\\\\', modifiers=[\\\\\\'Shift\\\\\\'])\\\\n\\\\n\"\"\"\n",
    "\n",
    "def build_action_prompt(base_prompt, actions, thoughts):\n",
    "    base_splits = base_prompt.split(\"# \")\n",
    "    # change html obs\n",
    "    html = base_splits[4][7:]\n",
    "    base_splits[4] = \"HTML:\" + clean_html(html)\n",
    "\n",
    "    hist_split = base_splits[6]\n",
    "    hist_instruction = hist_split[:-4]\n",
    "    hist_end = hist_split[-4:]\n",
    "    new_hist = hist_instruction + \" The actions already taken are [\" + \", \".join(actions) + \"]; Thoughts [\" + \", \".join(thoughts) + \"]\" + hist_end\n",
    "    base_splits[6] = new_hist\n",
    "    base_splits[7] = simple_action_space\n",
    "    base_splits[8] = \"\"\n",
    "    base_splits[9] = concrete_example\n",
    "    new_prompt = \"# \".join(base_splits)\n",
    "    new_prompt += \" # Final Instruction: Given that the last actions are: \" + \", \".join(actions) + \", what are possible next actions?\"\n",
    "    return new_prompt"
   ]
  },
  {
   "cell_type": "code",
   "execution_count": 10,
   "metadata": {},
   "outputs": [],
   "source": [
    "# ground truth\n",
    "actions = []\n",
    "action_thoughts = []\n",
    "thoughts = []\n",
    "\n",
    "new_prompt = build_action_prompt(base_prompt, actions, thoughts)\n",
    "chat_messages = [\n",
    "    SystemMessage(content=system_prompt),\n",
    "    HumanMessage(content=new_prompt+\"Think about what to do and then predict all actions at once to complete the task.\"),\n",
    "]\n",
    "out = model.invoke(chat_messages)\n",
    "ans_dict = parser(out.content)"
   ]
  },
  {
   "cell_type": "code",
   "execution_count": 11,
   "metadata": {},
   "outputs": [
    {
     "name": "stdout",
     "output_type": "stream",
     "text": [
      "Predicted:\n",
      "click(1008) \n",
      "click(1039) \n",
      "click(1113) \n",
      "click(1136) \n",
      "click(1209)\n",
      "\n",
      "Ideal:\n",
      "['click(1008)', 'click(1039)', 'click(1062)', 'click(1113)', 'click(1136)', 'click(1209)']\n"
     ]
    }
   ],
   "source": [
    "print(f\"Predicted:\\n{ans_dict[0]['action']}\")\n",
    "print(f\"\\nIdeal:\\n{ideal_actions}\")"
   ]
  },
  {
   "cell_type": "code",
   "execution_count": 55,
   "metadata": {},
   "outputs": [
    {
     "name": "stdout",
     "output_type": "stream",
     "text": [
      "Failed to find all parts of the target string. Remaining: click(1008)\n",
      "\n",
      "Relevant tokens:\n",
      "Failed to find all parts of the target string. Remaining: click(1008)\n",
      "\n",
      "\n",
      "Combined logprob: 0.0\n",
      "Combined probability: 0.0\n"
     ]
    }
   ],
   "source": [
    "import math\n",
    "import copy\n",
    "\n",
    "def get_relevant_tokens(tokens_data, target_string):\n",
    "    relevant_tokens = []\n",
    "    remaining = copy.deepcopy(target_string)\n",
    "    started = False\n",
    "    \n",
    "    for token_data in tokens_data:\n",
    "        if remaining.startswith(token_data['token']):\n",
    "            started = True\n",
    "            relevant_tokens.append(token_data)\n",
    "            remaining = remaining[len(token_data['token']):]\n",
    "            if not remaining:  # We've found all parts of the target string\n",
    "                break\n",
    "        else:\n",
    "            # case if only a part but not the whole is found\n",
    "            if started:\n",
    "                remaining = copy.deepcopy(target_string)\n",
    "                relevant_tokens = []\n",
    "                started = False\n",
    "    \n",
    "    if remaining:\n",
    "        print(f\"Failed to find all parts of the target string. Remaining: {remaining}\")\n",
    "        relevant_tokens = []\n",
    "\n",
    "    return relevant_tokens\n",
    "\n",
    "def get_string_probs(tokens_data, target_string):\n",
    "    relevant_tokens = get_relevant_tokens(tokens_data, target_string)\n",
    "    if len(relevant_tokens) == 0:\n",
    "        return 0., 0.\n",
    "    combined_logprob = sum(token['logprob'] for token in relevant_tokens)\n",
    "    combined_probability = math.exp(combined_logprob)\n",
    "    return combined_logprob, combined_probability\n",
    "\n",
    "tokens_data = out.response_metadata['logprobs']['content']\n",
    "target_string = \"click(1008)\\n\"\n",
    "\n",
    "relevant_tokens = get_relevant_tokens(tokens_data, target_string)\n",
    "\n",
    "print(\"Relevant tokens:\")\n",
    "for token in relevant_tokens:\n",
    "    print(f\"Token: {token['token']}, LogProb: {token['logprob']}\")\n",
    "\n",
    "combined_logprob, combined_probability = get_string_probs(tokens_data, target_string)\n",
    "\n",
    "print(f\"\\nCombined logprob: {combined_logprob}\")\n",
    "print(f\"Combined probability: {combined_probability}\")"
   ]
  },
  {
   "cell_type": "code",
   "execution_count": 188,
   "metadata": {},
   "outputs": [],
   "source": [
    "def expand_predict(actions, thoughts):\n",
    "    new_prompt = build_action_prompt(base_prompt, actions, thoughts)\n",
    "    chat_messages = [\n",
    "        SystemMessage(content=system_prompt+\" Only predict the next step and not the whole plan at once.  Do not put any comments after an action. Give at minimum 5 and not more than 10 most likely options for the next step, starting with the best one.\"),\n",
    "        HumanMessage(content=new_prompt),\n",
    "    ]\n",
    "    out = model.invoke(chat_messages)\n",
    "    tokens_data = out.response_metadata['logprobs']['content']\n",
    "\n",
    "    ans_dict = parser(out.content)\n",
    "    thought = ans_dict[0]['think']\n",
    "    actions = ans_dict[0]['action'].split(\"\\n\")\n",
    "\n",
    "    action_probs = []\n",
    "    for act_string in actions:\n",
    "        # target_string = act_string[6:10]\n",
    "        target_string = act_string + \"\\n\"\n",
    "        combined_logprob, combined_probability = get_string_probs(tokens_data, target_string)\n",
    "        action_probs.append(combined_probability)\n",
    "\n",
    "    return actions, thought, action_probs"
   ]
  },
  {
   "cell_type": "code",
   "execution_count": 189,
   "metadata": {},
   "outputs": [],
   "source": [
    "actions = ['click(1008)', 'click(1039)', 'click(1062)', 'click(1100)', 'click(1129)']\n",
    "# actions = []\n",
    "thoughts = ['Currently, I see the customization options for the 14-inch MacBook Pro on the page. The possible next steps to achieve the goal of ordering the MacBook Pro with the specified configurations are: \\n1) click on the radio button for \"24GB unified memory\" \\n2) click on the radio button for \"2TB SSD storage\" \\n3) click on the button to select the \"96W USB-C Power Adapter\" \\n4) click on the button to add \"Final Cut Pro\" \\n5) click on the button to add \"Logic Pro\" \\n6) click on the \"Add to Bag\" button to proceed with the order \\n7) click on the button to check delivery dates \\n8) click on the button to check availability for in-store pickup \\n9) click on the button to save the configuration for later \\n10) click on the button to chat with a Mac Specialist for assistance.\\nNow I will predict the corresponding actions for the above goals.',\n",
    "            'Currently, I see the customization options for the 14-inch MacBook Pro on the page. I have already clicked on the radio button for \"24GB unified memory.\" \\n\\nGiven what I have already done, the possible next steps to achieve the goal are: \\n1) click on the radio button for \"2TB SSD storage\" \\n2) click on the radio button for \"96W USB-C Power Adapter\" \\n3) click on the button to add \"Final Cut Pro\" \\n4) click on the button to add \"Logic Pro\" \\n5) click on the \"Add to Bag\" button to proceed with the order \\n6) click on the button to check delivery dates \\n7) click on the button to check availability for in-store pickup \\n8) click on the button to save the configuration for later \\n9) click on the button to chat with a Mac Specialist for assistance \\n10) click on the button to learn more about the memory options.\\nNow I will predict the corresponding actions for the above goals.',\n",
    "            'Currently, I see the customization options for the 14-inch MacBook Pro on the page. Now I summarize what happened by my last actions:\\n1) I clicked on the radio button for \"24GB unified memory.\"\\n2) I clicked on the radio button for \"2TB SSD storage.\"\\n\\nGiven what I have already done, the possible next steps to achieve the goal are: \\n1) click on the button to select the \"96W USB-C Power Adapter\" \\n2) click on the button to add \"Final Cut Pro\" \\n3) click on the button to add \"Logic Pro\" \\n4) click on the \"Add to Bag\" button to proceed with the order \\n5) click on the button to check delivery dates \\n6) click on the button to check availability for in-store pickup \\n7) click on the button to save the configuration for later \\n8) click on the button to chat with a Mac Specialist for assistance \\n9) click on the button to learn more about the power adapter options \\n10) click on the button to learn more about the pre-installed software options.\\n\\nNow I will predict the corresponding actions for the above goals.',\n",
    "            'Currently, I see the customization options for the 14-inch MacBook Pro on the page. Now I summarize what happened by my last actions:\\n1) I clicked on the radio button for \"24GB unified memory.\"\\n2) I clicked on the radio button for \"2TB SSD storage.\"\\n3) I clicked on the button to select the \"96W USB-C Power Adapter.\"\\n\\nGiven what I have already done, the possible next steps to achieve the goal are: \\n1) click on the button to add \"Final Cut Pro\" \\n2) click on the button to add \"Logic Pro\" \\n3) click on the \"Add to Bag\" button to proceed with the order \\n4) click on the button to check delivery dates \\n5) click on the button to check availability for in-store pickup \\n6) click on the button to save the configuration for later \\n7) click on the button to chat with a Mac Specialist for assistance \\n8) click on the button to learn more about the pre-installed software options \\n9) click on the button to learn more about the memory options \\n10) click on the button to learn more about the power adapter options.\\nNow I will predict the corresponding actions for the above goals.',\n",
    "            'Currently I see the customization options for the 14-inch MacBook Pro on the page. Now I summarize what happened by my last actions:\\n1) I clicked on the radio button for \"24GB unified memory.\"\\n2) I clicked on the radio button for \"2TB SSD storage.\"\\n3) I clicked on the button to select the \"96W USB-C Power Adapter.\"\\n4) I clicked on the button to add \"Final Cut Pro.\"\\n\\nGiven what I have already done, the possible next steps to achieve the goal are: \\n1) click on the button to add \"Logic Pro\" \\n2) click on the \"Add to Bag\" button to proceed with the order \\n3) click on the button to check delivery dates \\n4) click on the button to check availability for in-store pickup \\n5) click on the button to save the configuration for later \\n6) click on the button to chat with a Mac Specialist for assistance \\n7) click on the button to learn more about the pre-installed software options \\n8) click on the button to learn more about the memory options \\n9) click on the button to learn more about the power adapter options \\n10) click on the button to view the gallery of the MacBook Pro.\\n\\nNow I will predict the corresponding actions for the above goals.'\n",
    "            ]\n",
    "# thoughts = []\n",
    "actions, thought, action_probs = expand_predict(actions, thoughts)"
   ]
  },
  {
   "cell_type": "code",
   "execution_count": 190,
   "metadata": {},
   "outputs": [
    {
     "name": "stdout",
     "output_type": "stream",
     "text": [
      "Currently I see the customization options for the 14-inch MacBook Pro on the page. Now I summarize what happened by my last actions:\n",
      "1) I clicked on the radio button for \"24GB unified memory.\"\n",
      "2) I clicked on the radio button for \"2TB SSD storage.\"\n",
      "3) I clicked on the button to select the \"96W USB-C Power Adapter.\"\n",
      "4) I clicked on the button to add \"Final Cut Pro.\"\n",
      "5) I clicked on the button to add \"Logic Pro.\"\n",
      "\n",
      "Given what I have already done, the 5-10 possible next steps to achieve the goal are: \n",
      "1) click on the \"Add to Bag\" button to proceed with the order \n",
      "2) click on the button to check delivery dates \n",
      "3) click on the button to check availability for in-store pickup \n",
      "4) click on the button to save the configuration for later \n",
      "5) click on the button to chat with a Mac Specialist for assistance \n",
      "6) click on the button to learn more about the pre-installed software options \n",
      "7) click on the button to learn more about the memory options \n",
      "8) click on the button to learn more about the power adapter options \n",
      "9) click on the button to view the gallery of the MacBook Pro.\n"
     ]
    }
   ],
   "source": [
    "print(thought)"
   ]
  },
  {
   "cell_type": "code",
   "execution_count": 191,
   "metadata": {},
   "outputs": [
    {
     "data": {
      "text/plain": [
       "(['click(1209)', 'click(1168)', 'click(1177)', 'click(1150)', 'click(945)'],\n",
       " [0.9984979795325685,\n",
       "  0.9819711837065279,\n",
       "  0.9999918645699428,\n",
       "  0.9996503840815936,\n",
       "  0.9992290739612943])"
      ]
     },
     "execution_count": 191,
     "metadata": {},
     "output_type": "execute_result"
    }
   ],
   "source": [
    "actions, action_probs"
   ]
  },
  {
   "cell_type": "markdown",
   "metadata": {},
   "source": [
    "Log-probs are kinda arbitrary, it seems like the first is quite low whereas the rest is pretty high. It does not really represent the probability of taking the action but rather the probability that this is generated next which seems to be pretty different as click(1008) would be the logically best option."
   ]
  },
  {
   "cell_type": "code",
   "execution_count": 109,
   "metadata": {},
   "outputs": [
    {
     "data": {
      "text/plain": [
       "['click(1008)',\n",
       " 'click(1039)',\n",
       " 'click(1062)',\n",
       " 'click(1113)',\n",
       " 'click(1136)',\n",
       " 'click(1209)']"
      ]
     },
     "execution_count": 109,
     "metadata": {},
     "output_type": "execute_result"
    }
   ],
   "source": [
    "ideal_actions"
   ]
  },
  {
   "cell_type": "code",
   "execution_count": 52,
   "metadata": {},
   "outputs": [
    {
     "name": "stdout",
     "output_type": "stream",
     "text": [
      "/div></div></div> <div><h3>Logic Pro</h3> <button bid=\"1123\"><::after> Learn\\xa0more <span>Logic Pro</span></b\n"
     ]
    }
   ],
   "source": [
    "import re\n",
    "\n",
    "# Find the position of the bid=\"1100\" in the c_html string\n",
    "match = re.search(r'bid=\"1123\"', c_html)\n",
    "if match:\n",
    "    start = max(match.start() - 50, 0)\n",
    "    end = min(match.end() + 50, len(c_html))\n",
    "    context = c_html[start:end]\n",
    "    print(context)\n",
    "else:\n",
    "    print(\"bid=\\\"1100\\\" not found in c_html\")"
   ]
  },
  {
   "cell_type": "markdown",
   "metadata": {},
   "source": [
    "## Build MCTS"
   ]
  },
  {
   "cell_type": "code",
   "execution_count": 4,
   "metadata": {},
   "outputs": [],
   "source": [
    "# def expand_predict(actions, thoughts):\n",
    "#     new_actions = [\n",
    "#         'click(1008)',\n",
    "#         'click(4351)',\n",
    "#         'click(1039)',\n",
    "#         'click(4351)',\n",
    "#         'click(1062)',\n",
    "#         'click(2135)',\n",
    "#         'click(5432)',\n",
    "#         'click(1113)',\n",
    "#         'click(1136)',\n",
    "#         'click(1209)'\n",
    "#     ]\n",
    "#     thought = \"hi\"\n",
    "#     logprobs = [1.0] * 10\n",
    "#     return new_actions, thought, logprobs"
   ]
  },
  {
   "cell_type": "code",
   "execution_count": 19,
   "metadata": {},
   "outputs": [],
   "source": [
    "import random\n",
    "import copy\n",
    "import math\n",
    "import numpy as np\n",
    "import torch\n",
    "from torch.distributions import Beta"
   ]
  },
  {
   "cell_type": "code",
   "execution_count": 84,
   "metadata": {},
   "outputs": [],
   "source": [
    "class Node:\n",
    "    def __init__(self, actions, thoughts, parent=None, depth=0, dr=None):\n",
    "        self.actions = actions\n",
    "        self.thoughts = thoughts\n",
    "        self.parent = parent\n",
    "        self.children = []\n",
    "        self.visits = 0\n",
    "        self.depth = depth\n",
    "        self.dr = dr\n",
    "\n",
    "    def get_initial_rewards(self, n):\n",
    "        rewards = [max(1 - i * self.dr, 0) for i in range(n)]\n",
    "        return rewards\n",
    "\n",
    "class UCBNode(Node):\n",
    "    def __init__(self, actions, thoughts, parent=None, depth=0, alpha=0.1, dr=None):\n",
    "        super().__init__(actions, thoughts, parent=parent, depth=depth, dr=dr)\n",
    "        self.value = np.inf\n",
    "        self.alpha = alpha\n",
    "\n",
    "    def expand(self):\n",
    "        arms, thought, action_probs = expand_predict(self.actions, self.thoughts)\n",
    "        self.children = [UCBNode(self.actions + [arm],\n",
    "                                      self.thoughts + [thought],\n",
    "                                      parent=self,\n",
    "                                      depth=self.depth+1) for arm in arms]\n",
    "\n",
    "        if self.dr is not None:\n",
    "            rewards = self.get_initial_rewards(len(arms))\n",
    "            for child, reward in zip(self.children, rewards):\n",
    "                child.update(reward)\n",
    "\n",
    "\n",
    "    def ucb_score(self, node: Node, total_visits: int) -> float:\n",
    "        if node.visits == 0:\n",
    "            return float('inf')\n",
    "        return (node.value / node.visits) + self.alpha * math.sqrt(2 * math.log(total_visits) / node.visits)\n",
    "\n",
    "    def select_arm(self, greedy=False) -> Node:\n",
    "        if self.children is None:\n",
    "            return None\n",
    "        \n",
    "        if greedy:\n",
    "            scores = [c.visits for c in self.children]\n",
    "        else:\n",
    "            scores = [self.ucb_score(c, self.visits) for c in self.children]\n",
    "        max_score = max(scores)\n",
    "        max_children = [c for c, s in zip(self.children, scores) if s == max_score]\n",
    "        return random.choice(max_children)\n",
    "\n",
    "    def update(self, reward):\n",
    "        self.visits += 1\n",
    "        if self.value == np.inf:\n",
    "            self.value = copy.deepcopy(reward)\n",
    "        else:\n",
    "            self.value += copy.deepcopy(reward)"
   ]
  },
  {
   "cell_type": "code",
   "execution_count": 136,
   "metadata": {},
   "outputs": [],
   "source": [
    "class ThompsonNode(Node):\n",
    "    def __init__(self, actions, thoughts, parent=None, depth=0, dr=None):\n",
    "        super().__init__(actions, thoughts, parent=parent, depth=depth, dr=dr)\n",
    "        self.alpha = 1.0\n",
    "        self.beta = 1.0\n",
    "\n",
    "    def expand(self):\n",
    "        arms, thought, action_probs = expand_predict(self.actions, self.thoughts)\n",
    "        self.children = [ThompsonNode(self.actions + [arm],\n",
    "                                      self.thoughts + [thought],\n",
    "                                      parent=self,\n",
    "                                      depth=self.depth+1) for arm in arms]\n",
    "        \n",
    "        if self.dr is not None:\n",
    "            rewards = self.get_initial_rewards(len(arms))\n",
    "            for child, reward in zip(self.children, rewards):\n",
    "                child.update(reward)\n",
    "\n",
    "    def select_arm(self, greedy=False):\n",
    "        if self.children is None:\n",
    "            return None\n",
    "        \n",
    "        if greedy:\n",
    "            # Greedy selection based on mean of Beta distribution\n",
    "            means = [child.alpha / (child.alpha + child.beta) for child in self.children]\n",
    "            child_idx = means.index(max(means))\n",
    "        else:\n",
    "            # Thompson sampling\n",
    "            samples = [Beta(child.alpha, child.beta).sample().item() for child in self.children]\n",
    "            child_idx = samples.index(max(samples))\n",
    "        \n",
    "        return self.children[child_idx]\n",
    "\n",
    "    def update(self, reward):\n",
    "        self.visits += 1\n",
    "        self.alpha += reward\n",
    "        self.beta += (1 - reward)\n",
    "\n",
    "\n",
    "class GreedyNode(Node):\n",
    "    def __init__(self, actions, thoughts, parent=None, depth=0, dr=None):\n",
    "        super().__init__(actions, thoughts, parent=parent, depth=depth, dr=dr)\n",
    "        self.value = np.inf\n",
    "\n",
    "    def expand(self):\n",
    "        arms, thought, action_probs = expand_predict(self.actions, self.thoughts)\n",
    "        self.children = [GreedyNode(self.actions + [arm],\n",
    "                                      self.thoughts + [thought],\n",
    "                                      parent=self,\n",
    "                                      depth=self.depth+1) for arm in arms]\n",
    "\n",
    "    def select_arm(self, greedy=True):\n",
    "        if self.children is None:\n",
    "            return None\n",
    "        \n",
    "        # always greedy\n",
    "        child_idx = np.argmax([child.value for child in self.children])\n",
    "        return self.children[child_idx]\n",
    "\n",
    "    def update(self, reward):\n",
    "        self.visits += 1\n",
    "        if self.value == np.inf:\n",
    "            self.value = reward\n",
    "        else:\n",
    "            self.value += reward"
   ]
  },
  {
   "cell_type": "code",
   "execution_count": 93,
   "metadata": {},
   "outputs": [],
   "source": [
    "# define tree helper functions\n",
    "def print_tree(node, indent=\"\"):\n",
    "    if len(node.actions) > 0:\n",
    "        print(f\"{indent}Action: {node.actions[-1]}\")\n",
    "        print(f\"{indent}Value: {node.value}\")\n",
    "    print(f\"{indent}Children: {len(node.children)}\")\n",
    "    for child in node.children:\n",
    "        print_tree(child, indent + \"  \")\n",
    "\n",
    "# create all possible trajectories of actions from tree\n",
    "def get_trajectories(node):\n",
    "    if not node.children:\n",
    "        return [[node.actions]]\n",
    "    \n",
    "    trajectories = []\n",
    "    for child in node.children:\n",
    "        child_trajectories = get_trajectories(child)\n",
    "        for trajectory in child_trajectories:\n",
    "            trajectories.append([node.actions] + trajectory)\n",
    "    \n",
    "    trajectories = [t[-1] for t in trajectories]\n",
    "    return trajectories"
   ]
  },
  {
   "cell_type": "code",
   "execution_count": 94,
   "metadata": {},
   "outputs": [],
   "source": [
    "def select(node: Node) -> Node:\n",
    "    while node.children:\n",
    "        node = node.select_arm()\n",
    "    return node\n",
    "\n",
    "def backpropagate(node: Node, reward: float):\n",
    "    while node:\n",
    "        node.update(reward)\n",
    "        node = node.parent"
   ]
  },
  {
   "cell_type": "code",
   "execution_count": 123,
   "metadata": {},
   "outputs": [
    {
     "data": {
      "text/plain": [
       "(1, 0, 1)"
      ]
     },
     "execution_count": 123,
     "metadata": {},
     "output_type": "execute_result"
    }
   ],
   "source": [
    "# 'click(1100)', 'click(1129)' are also correct for step 4 and 5\n",
    "all_ideal_actions = [\n",
    "    ['click(1008)',],\n",
    "    ['click(1039)',],\n",
    "    ['click(1062)',],\n",
    "    ['click(1113)', 'click(1100)'],\n",
    "    ['click(1136)', 'click(1129)', 'click(1123)'],\n",
    "    ['click(1209)',],\n",
    "]\n",
    "\n",
    "def get_t_value(trajectory):\n",
    "    score = 1\n",
    "    for a, b in zip(trajectory, all_ideal_actions):\n",
    "        if not a.strip() in b:\n",
    "            score = 0\n",
    "    return score\n",
    "\n",
    "\n",
    "t = ['click(1008)', 'click(1038)', 'click(1062)', 'click(1112)\\nclick(1136)']\n",
    "t2 = ['click(1008)', 'click(1039)', 'click(1062)', 'click(1113)', 'click(1123)']\n",
    "get_t_value(ideal_actions), get_t_value(t), get_t_value(t2)"
   ]
  },
  {
   "cell_type": "code",
   "execution_count": 124,
   "metadata": {},
   "outputs": [],
   "source": [
    "from tqdm import tqdm\n",
    "\n",
    "def mcts_like(root, max_depth, max_iters):\n",
    "    expand_count = 0\n",
    "    for iter_idx in tqdm(range(max_iters)):\n",
    "        selected_node = select(root)\n",
    "\n",
    "        # expansion + simulation\n",
    "        remaining_depth = max_depth - selected_node.depth\n",
    "\n",
    "        value = get_t_value(selected_node.actions)\n",
    "        backpropagate(selected_node, value)\n",
    "\n",
    "        if remaining_depth > 0 and value != 0.0:\n",
    "            for _ in range(remaining_depth):\n",
    "                selected_node.expand()\n",
    "                expand_count += 1\n",
    "                selected_node = select(selected_node)\n",
    "\n",
    "                value = get_t_value(selected_node.actions)\n",
    "                backpropagate(selected_node, value)\n",
    "\n",
    "                if value == 0.0:\n",
    "                    break\n",
    "\n",
    "        if value == 1.0 and selected_node.depth >= max_depth:\n",
    "            print(f\"Success at iter {iter_idx}\")\n",
    "            break\n",
    "\n",
    "    return root, iter_idx, expand_count"
   ]
  },
  {
   "cell_type": "code",
   "execution_count": 142,
   "metadata": {},
   "outputs": [
    {
     "name": "stderr",
     "output_type": "stream",
     "text": [
      "  4%|▍         | 43/1000 [00:27<10:15,  1.55it/s] "
     ]
    },
    {
     "name": "stdout",
     "output_type": "stream",
     "text": [
      "Success at iter 43\n"
     ]
    },
    {
     "name": "stderr",
     "output_type": "stream",
     "text": [
      "\n"
     ]
    }
   ],
   "source": [
    "max_depth = 6\n",
    "max_iters = 1_000\n",
    "actions = []\n",
    "thoughts = []\n",
    "root = ThompsonNode(actions, thoughts, dr=None)\n",
    "root, iter_idx, expand_count = mcts_like(root, max_depth, max_iters)"
   ]
  },
  {
   "cell_type": "code",
   "execution_count": 144,
   "metadata": {},
   "outputs": [
    {
     "name": "stdout",
     "output_type": "stream",
     "text": [
      "['click(1008) ', 'click(1039) ', 'click(1062) ', 'click(1113) ', 'click(1136) ', 'click(1209)']\n",
      "[24, 5, 3, 5, 6, 6]\n",
      "['click(1039)']\n",
      "[23]\n",
      "['click(1062)', 'click(1113)', 'click(1136)', 'click(1209)']\n",
      "[11, 3, 3, 5]\n",
      "['click(1100)', 'click(1123)', 'click(1209)']\n",
      "[6, 3, 1]\n",
      "['click(1113)', 'click(1136)', 'click(1209)']\n",
      "[2, 2, 1]\n",
      "['click(1113)', 'click(1136)', 'click(1209)']\n",
      "[0, 0, 1]\n",
      "\n",
      "Best trajectory:['click(1008) ', 'click(1039)', 'click(1062)', 'click(1100)', 'click(1136)', 'click(1209)']\n",
      "Score: 1\n"
     ]
    }
   ],
   "source": [
    "best_c = copy.deepcopy(root)\n",
    "while best_c.children:\n",
    "    print([c.actions[-1] for c in best_c.children])\n",
    "    # print([c.value for c in best_c.children])\n",
    "    # print([c.beta for c in best_c.children])\n",
    "    # print([c.thoughts[-1] for c in best_c.children])\n",
    "    print([c.visits for c in best_c.children])\n",
    "    best_c = best_c.select_arm(greedy=True)\n",
    "print(f\"\\nBest trajectory:{best_c.actions}\\nScore: {get_t_value(best_c.actions)}\")"
   ]
  },
  {
   "cell_type": "code",
   "execution_count": 226,
   "metadata": {},
   "outputs": [
    {
     "name": "stdout",
     "output_type": "stream",
     "text": [
      "UCBNode\n"
     ]
    },
    {
     "name": "stderr",
     "output_type": "stream",
     "text": [
      "  2%|▏         | 19/1000 [00:28<24:26,  1.49s/it] \n"
     ]
    },
    {
     "name": "stdout",
     "output_type": "stream",
     "text": [
      "Success at iter 19\n",
      "GreedyNode\n"
     ]
    },
    {
     "name": "stderr",
     "output_type": "stream",
     "text": [
      "  2%|▏         | 16/1000 [00:26<27:19,  1.67s/it] \n"
     ]
    },
    {
     "name": "stdout",
     "output_type": "stream",
     "text": [
      "Success at iter 16\n",
      "ThompsonNode\n"
     ]
    },
    {
     "name": "stderr",
     "output_type": "stream",
     "text": [
      " 32%|███▏      | 321/1000 [00:37<01:19,  8.58it/s]\n"
     ]
    },
    {
     "name": "stdout",
     "output_type": "stream",
     "text": [
      "Success at iter 321\n",
      "UCBNode\n"
     ]
    },
    {
     "name": "stderr",
     "output_type": "stream",
     "text": [
      "  1%|          | 11/1000 [00:37<56:46,  3.44s/it] \n"
     ]
    },
    {
     "name": "stdout",
     "output_type": "stream",
     "text": [
      "Success at iter 11\n",
      "GreedyNode\n"
     ]
    },
    {
     "name": "stderr",
     "output_type": "stream",
     "text": [
      "  2%|▏         | 20/1000 [00:32<26:30,  1.62s/it] \n"
     ]
    },
    {
     "name": "stdout",
     "output_type": "stream",
     "text": [
      "Success at iter 20\n",
      "ThompsonNode\n"
     ]
    },
    {
     "name": "stderr",
     "output_type": "stream",
     "text": [
      "  6%|▌         | 62/1000 [00:37<09:20,  1.67it/s] \n"
     ]
    },
    {
     "name": "stdout",
     "output_type": "stream",
     "text": [
      "Success at iter 62\n",
      "UCBNode\n"
     ]
    },
    {
     "name": "stderr",
     "output_type": "stream",
     "text": [
      "100%|██████████| 1000/1000 [00:16<00:00, 60.73it/s]\n"
     ]
    },
    {
     "name": "stdout",
     "output_type": "stream",
     "text": [
      "GreedyNode\n"
     ]
    },
    {
     "name": "stderr",
     "output_type": "stream",
     "text": [
      "  2%|▏         | 22/1000 [00:46<34:33,  2.12s/it] \n"
     ]
    },
    {
     "name": "stdout",
     "output_type": "stream",
     "text": [
      "Success at iter 22\n",
      "ThompsonNode\n"
     ]
    },
    {
     "name": "stderr",
     "output_type": "stream",
     "text": [
      " 22%|██▏       | 222/1000 [00:33<01:56,  6.67it/s]\n"
     ]
    },
    {
     "name": "stdout",
     "output_type": "stream",
     "text": [
      "Success at iter 222\n",
      "UCBNode\n"
     ]
    },
    {
     "name": "stderr",
     "output_type": "stream",
     "text": [
      "  2%|▏         | 21/1000 [00:34<26:34,  1.63s/it] \n"
     ]
    },
    {
     "name": "stdout",
     "output_type": "stream",
     "text": [
      "Success at iter 21\n",
      "GreedyNode\n"
     ]
    },
    {
     "name": "stderr",
     "output_type": "stream",
     "text": [
      "  2%|▏         | 17/1000 [00:34<33:15,  2.03s/it] \n"
     ]
    },
    {
     "name": "stdout",
     "output_type": "stream",
     "text": [
      "Success at iter 17\n",
      "ThompsonNode\n"
     ]
    },
    {
     "name": "stderr",
     "output_type": "stream",
     "text": [
      " 16%|█▋        | 164/1000 [00:36<03:07,  4.45it/s]\n"
     ]
    },
    {
     "name": "stdout",
     "output_type": "stream",
     "text": [
      "Success at iter 164\n",
      "UCBNode\n"
     ]
    },
    {
     "name": "stderr",
     "output_type": "stream",
     "text": [
      "  3%|▎         | 26/1000 [00:37<23:24,  1.44s/it] \n"
     ]
    },
    {
     "name": "stdout",
     "output_type": "stream",
     "text": [
      "Success at iter 26\n",
      "GreedyNode\n"
     ]
    },
    {
     "name": "stderr",
     "output_type": "stream",
     "text": [
      "  2%|▏         | 17/1000 [00:32<31:12,  1.91s/it] \n"
     ]
    },
    {
     "name": "stdout",
     "output_type": "stream",
     "text": [
      "Success at iter 17\n",
      "ThompsonNode\n"
     ]
    },
    {
     "name": "stderr",
     "output_type": "stream",
     "text": [
      " 22%|██▏       | 217/1000 [00:39<02:21,  5.55it/s]\n"
     ]
    },
    {
     "name": "stdout",
     "output_type": "stream",
     "text": [
      "Success at iter 217\n",
      "UCBNode\n"
     ]
    },
    {
     "name": "stderr",
     "output_type": "stream",
     "text": [
      "  2%|▏         | 16/1000 [00:51<52:27,  3.20s/it] \n"
     ]
    },
    {
     "name": "stdout",
     "output_type": "stream",
     "text": [
      "Success at iter 16\n",
      "GreedyNode\n"
     ]
    },
    {
     "name": "stderr",
     "output_type": "stream",
     "text": [
      "  2%|▏         | 19/1000 [00:37<32:31,  1.99s/it] \n"
     ]
    },
    {
     "name": "stdout",
     "output_type": "stream",
     "text": [
      "Success at iter 19\n",
      "ThompsonNode\n"
     ]
    },
    {
     "name": "stderr",
     "output_type": "stream",
     "text": [
      "100%|██████████| 1000/1000 [00:31<00:00, 31.30it/s]\n"
     ]
    },
    {
     "name": "stdout",
     "output_type": "stream",
     "text": [
      "UCBNode\n"
     ]
    },
    {
     "name": "stderr",
     "output_type": "stream",
     "text": [
      "  2%|▏         | 19/1000 [00:44<38:07,  2.33s/it] \n"
     ]
    },
    {
     "name": "stdout",
     "output_type": "stream",
     "text": [
      "Success at iter 19\n",
      "GreedyNode\n"
     ]
    },
    {
     "name": "stderr",
     "output_type": "stream",
     "text": [
      "  2%|▏         | 18/1000 [00:39<36:18,  2.22s/it] \n"
     ]
    },
    {
     "name": "stdout",
     "output_type": "stream",
     "text": [
      "Success at iter 18\n",
      "ThompsonNode\n"
     ]
    },
    {
     "name": "stderr",
     "output_type": "stream",
     "text": [
      " 18%|█▊        | 175/1000 [00:35<02:48,  4.89it/s]\n"
     ]
    },
    {
     "name": "stdout",
     "output_type": "stream",
     "text": [
      "Success at iter 175\n",
      "UCBNode\n"
     ]
    },
    {
     "name": "stderr",
     "output_type": "stream",
     "text": [
      "100%|██████████| 1000/1000 [00:32<00:00, 30.83it/s]\n"
     ]
    },
    {
     "name": "stdout",
     "output_type": "stream",
     "text": [
      "GreedyNode\n"
     ]
    },
    {
     "name": "stderr",
     "output_type": "stream",
     "text": [
      "  2%|▏         | 21/1000 [00:31<24:28,  1.50s/it] \n"
     ]
    },
    {
     "name": "stdout",
     "output_type": "stream",
     "text": [
      "Success at iter 21\n",
      "ThompsonNode\n"
     ]
    },
    {
     "name": "stderr",
     "output_type": "stream",
     "text": [
      "  7%|▋         | 72/1000 [00:27<05:54,  2.62it/s] \n"
     ]
    },
    {
     "name": "stdout",
     "output_type": "stream",
     "text": [
      "Success at iter 72\n",
      "UCBNode\n"
     ]
    },
    {
     "name": "stderr",
     "output_type": "stream",
     "text": [
      "  2%|▏         | 20/1000 [00:34<28:24,  1.74s/it] \n"
     ]
    },
    {
     "name": "stdout",
     "output_type": "stream",
     "text": [
      "Success at iter 20\n",
      "GreedyNode\n"
     ]
    },
    {
     "name": "stderr",
     "output_type": "stream",
     "text": [
      "  2%|▏         | 17/1000 [00:33<31:53,  1.95s/it] \n"
     ]
    },
    {
     "name": "stdout",
     "output_type": "stream",
     "text": [
      "Success at iter 17\n",
      "ThompsonNode\n"
     ]
    },
    {
     "name": "stderr",
     "output_type": "stream",
     "text": [
      "100%|██████████| 1000/1000 [00:10<00:00, 91.17it/s]\n"
     ]
    },
    {
     "name": "stdout",
     "output_type": "stream",
     "text": [
      "UCBNode\n"
     ]
    },
    {
     "name": "stderr",
     "output_type": "stream",
     "text": [
      "  2%|▏         | 18/1000 [00:42<38:52,  2.38s/it] \n"
     ]
    },
    {
     "name": "stdout",
     "output_type": "stream",
     "text": [
      "Success at iter 18\n",
      "GreedyNode\n"
     ]
    },
    {
     "name": "stderr",
     "output_type": "stream",
     "text": [
      "100%|██████████| 1000/1000 [00:24<00:00, 40.47it/s]\n"
     ]
    },
    {
     "name": "stdout",
     "output_type": "stream",
     "text": [
      "ThompsonNode\n"
     ]
    },
    {
     "name": "stderr",
     "output_type": "stream",
     "text": [
      " 19%|█▉        | 191/1000 [00:27<01:57,  6.90it/s]"
     ]
    },
    {
     "name": "stdout",
     "output_type": "stream",
     "text": [
      "Success at iter 191\n"
     ]
    },
    {
     "name": "stderr",
     "output_type": "stream",
     "text": [
      "\n"
     ]
    }
   ],
   "source": [
    "from collections import defaultdict\n",
    "\n",
    "max_depth = 6\n",
    "max_iters = 1_000\n",
    "dr = 0.2 # the reward decay rate for action positions\n",
    "\n",
    "n_experiments = 10\n",
    "\n",
    "n_iters_to_success = defaultdict(list)\n",
    "expand_counts = defaultdict(list)\n",
    "\n",
    "for _ in range(n_experiments):\n",
    "    classes = [UCBNode, GreedyNode, ThompsonNode]\n",
    "    for cls in classes:\n",
    "        print(cls.__name__)\n",
    "        root = cls([], [], dr=dr)\n",
    "        root, iter_idx, expand_count = mcts_like(root, max_depth, max_iters)\n",
    "        n_iters_to_success[cls.__name__].append(iter_idx)\n",
    "        expand_counts[cls.__name__].append(expand_count)"
   ]
  },
  {
   "cell_type": "code",
   "execution_count": 227,
   "metadata": {},
   "outputs": [
    {
     "name": "stdout",
     "output_type": "stream",
     "text": [
      "UCB proportion of successes: 0.8\n",
      "Greedy proportion of successes: 0.9\n",
      "Thompson proportion of successes: 0.8\n"
     ]
    },
    {
     "data": {
      "image/png": "[encoded data removed]",
      "text/plain": [
       "<Figure size 1200x400 with 3 Axes>"
      ]
     },
     "metadata": {},
     "output_type": "display_data"
    }
   ],
   "source": [
    "import matplotlib.pyplot as plt\n",
    "\n",
    "# Create a list of results for boxplot\n",
    "n_iter_list = list(n_iters_to_success.values())\n",
    "expand_list = list(expand_counts.values())\n",
    "labels = ['UCB', 'Greedy', 'Thompson']\n",
    "\n",
    "fig, axs = plt.subplots(1, 3, figsize=(12, 4))\n",
    "axs[0].boxplot(n_iter_list, tick_labels=labels)\n",
    "axs[0].set_xlabel('MCTS Variant')\n",
    "axs[0].set_ylabel('Iterations to Success')\n",
    "axs[0].set_title('Comparison of MCTS Variants')\n",
    "\n",
    "axs[1].boxplot(expand_list, tick_labels=labels)\n",
    "axs[1].set_xlabel('MCTS Variant')\n",
    "axs[1].set_ylabel('N expand')\n",
    "axs[1].set_title('Comparison of MCTS Variants')\n",
    "\n",
    "success_n_iter_list = []\n",
    "for n_iter, expand, l in zip(n_iter_list, expand_list, labels):\n",
    "    successes = [n for n, x in zip(n_iter, expand) if x >= 6 and n < max_iters - 1]\n",
    "    print(f\"{l} proportion of successes: {len(successes) / len(n_iter)}\")\n",
    "    success_n_iter_list.append(successes)\n",
    "axs[2].boxplot(success_n_iter_list, tick_labels=labels)\n",
    "axs[2].set_xlabel('MCTS Variant')\n",
    "axs[2].set_ylabel('N expand success')\n",
    "axs[2].set_title('Comparison of MCTS Variants')\n",
    "\n",
    "plt.tight_layout()\n",
    "plt.show()"
   ]
  },
  {
   "cell_type": "code",
   "execution_count": 223,
   "metadata": {},
   "outputs": [
    {
     "name": "stderr",
     "output_type": "stream",
     "text": [
      "  3%|▎         | 34/1000 [00:35<16:42,  1.04s/it] "
     ]
    },
    {
     "name": "stdout",
     "output_type": "stream",
     "text": [
      "Success at iter 34\n"
     ]
    },
    {
     "name": "stderr",
     "output_type": "stream",
     "text": [
      "\n"
     ]
    }
   ],
   "source": [
    "dr = 0.2\n",
    "root = ThompsonNode([], [], dr=dr)\n",
    "root, iter_idx, expand_count = mcts_like(root, max_depth, max_iters)"
   ]
  },
  {
   "cell_type": "code",
   "execution_count": 224,
   "metadata": {},
   "outputs": [],
   "source": [
    "import numpy as np\n",
    "import matplotlib.pyplot as plt\n",
    "from scipy.stats import beta\n",
    "\n",
    "def plot_beta_distribution(node, ax, num_points=1000):\n",
    "    x = np.linspace(0, 1, num_points)\n",
    "    y = beta.pdf(x, node.alpha, node.beta)\n",
    "    \n",
    "    ax.plot(x, y, lw=2, alpha=0.6, label=node.actions[-1])\n",
    "    ax.set_title(f'Beta Distribution (depth={node.depth})') # (α={node.alpha:.2f}, β={node.beta:.2f})')\n",
    "    ax.set_xlabel('Values')\n",
    "    ax.set_ylabel('Density')\n",
    "    ax.legend()\n",
    "    ax.grid(True, alpha=0.3)\n",
    "    ax.set_xlim(0, 1.)"
   ]
  },
  {
   "cell_type": "code",
   "execution_count": 225,
   "metadata": {},
   "outputs": [
    {
     "data": {
      "image/png": "[encoded data removed]",
      "text/plain": [
       "<Figure size 1200x600 with 6 Axes>"
      ]
     },
     "metadata": {},
     "output_type": "display_data"
    }
   ],
   "source": [
    "fig, axs = plt.subplots(2, 3, figsize=(12, 6))\n",
    "\n",
    "best_c = copy.deepcopy(root)\n",
    "\n",
    "depth_idx = 0\n",
    "while best_c.children:\n",
    "    for c in best_c.children:\n",
    "        idx_x = depth_idx % 2\n",
    "        idx_y = depth_idx // 2\n",
    "        plot_beta_distribution(c, axs[idx_x, idx_y], num_points=5000)\n",
    "    best_c = best_c.select_arm(greedy=True)\n",
    "    depth_idx += 1\n",
    "\n",
    "plt.tight_layout()\n",
    "plt.show()"
   ]
  },
  {
   "cell_type": "code",
   "execution_count": 211,
   "metadata": {},
   "outputs": [
    {
     "name": "stdout",
     "output_type": "stream",
     "text": [
      "['click(1008)', 'click(1039)', 'click(1062)', 'click(1113)', 'click(1136)', 'click(1209)']\n",
      "['Currently, I see the customization options for the 14-inch MacBook Pro on the page. Given that I have not taken any actions yet, nothing is yet achieved.\\n\\nThe 5-10 possible next steps to achieve the goal are: \\n1) select the 24GB unified memory option \\n2) select the 2TB SSD storage option \\n3) select the 96W USB-C Power Adapter option \\n4) add Final Cut Pro to the order \\n5) add Logic Pro to the order \\n6) click on the \"Add to Bag\" button to proceed with the order \\n7) check delivery dates \\n8) save the configuration for later \\n9) chat with a Mac Specialist for assistance.\\n\\nNow I will predict the corresponding actions for the above goals without writing any further comments.', 'Currently, I see the customization options for the 14-inch MacBook Pro on the page. Given that I have not taken any actions yet, nothing is yet achieved.\\n\\nThe 5-10 possible next steps to achieve the goal are: \\n1) select the 24GB unified memory option \\n2) select the 2TB SSD storage option \\n3) select the 96W USB-C Power Adapter option \\n4) add Final Cut Pro to the order \\n5) add Logic Pro to the order \\n6) click on the \"Add to Bag\" button to proceed with the order \\n7) check delivery dates \\n8) save the configuration for later \\n9) chat with a Mac Specialist for assistance.\\n\\nNow I will predict the corresponding actions for the above goals without writing any further comments.', 'Currently, I see the customization options for the 14-inch MacBook Pro on the page. Given that I have not taken any actions yet, nothing is yet achieved.\\n\\nThe 5-10 possible next steps to achieve the goal are: \\n1) select the 24GB unified memory option \\n2) select the 2TB SSD storage option \\n3) select the 96W USB-C Power Adapter option \\n4) add Final Cut Pro to the order \\n5) add Logic Pro to the order \\n6) click on the \"Add to Bag\" button to proceed with the order \\n7) check delivery dates \\n8) save the configuration for later \\n9) chat with a Mac Specialist for assistance.\\n\\nNow I will predict the corresponding actions for the above goals without writing any further comments.', 'Currently, I see the customization options for the 14-inch MacBook Pro on the page. Given that I have not taken any actions yet, nothing is yet achieved.\\n\\nThe 5-10 possible next steps to achieve the goal are: \\n1) select the 24GB unified memory option \\n2) select the 2TB SSD storage option \\n3) select the 96W USB-C Power Adapter option \\n4) add Final Cut Pro to the order \\n5) add Logic Pro to the order \\n6) click on the \"Add to Bag\" button to proceed with the order \\n7) check delivery dates \\n8) save the configuration for later \\n9) chat with a Mac Specialist for assistance.\\n\\nNow I will predict the corresponding actions for the above goals without writing any further comments.', 'Currently, I see the customization options for the 14-inch MacBook Pro on the page. Given that I have not taken any actions yet, nothing is yet achieved.\\n\\nThe 5-10 possible next steps to achieve the goal are: \\n1) select the 24GB unified memory option \\n2) select the 2TB SSD storage option \\n3) select the 96W USB-C Power Adapter option \\n4) add Final Cut Pro to the order \\n5) add Logic Pro to the order \\n6) click on the \"Add to Bag\" button to proceed with the order \\n7) check delivery dates \\n8) save the configuration for later \\n9) chat with a Mac Specialist for assistance.\\n\\nNow I will predict the corresponding actions for the above goals without writing any further comments.', 'Currently, I see the customization options for the 14-inch MacBook Pro on the page. Given that I have not taken any actions yet, nothing is yet achieved.\\n\\nThe 5-10 possible next steps to achieve the goal are: \\n1) select the 24GB unified memory option \\n2) select the 2TB SSD storage option \\n3) select the 96W USB-C Power Adapter option \\n4) add Final Cut Pro to the order \\n5) add Logic Pro to the order \\n6) click on the \"Add to Bag\" button to proceed with the order \\n7) check delivery dates \\n8) save the configuration for later \\n9) chat with a Mac Specialist for assistance.\\n\\nNow I will predict the corresponding actions for the above goals without writing any further comments.']\n",
      "[333, 138, 129, 137, 133, 138]\n",
      "['click(1039)', 'click(1062)', 'click(1076)', 'click(1100)', 'click(1123)', 'click(1209)', 'click(1168)', 'click(1177)', 'click(1150)']\n",
      "['Currently I see the customization options for the 14-inch MacBook Pro. I have already selected the 24GB unified memory option by clicking on it.\\n\\nGiven what I have done, the 5-10 possible next steps to achieve the goal are: \\n1) click on the 2TB SSD storage option to select it\\n2) click on the 96W USB-C Power Adapter option to select it\\n3) select the keyboard language from the dropdown menu\\n4) click on the \"Learn more\" button for Final Cut Pro to get more information\\n5) click on the \"Learn more\" button for Logic Pro to get more information\\n6) click on the \"Add to Bag\" button to proceed with the order\\n7) click on the \"Get delivery dates\" button to check delivery options\\n8) click on the \"Check availability\" button for in-store pickup\\n9) click on the \"Save for later\" button to keep the selections for later.\\n\\nNow I will predict the corresponding actions for the above goals without writing any further comments.', 'Currently I see the customization options for the 14-inch MacBook Pro. I have already selected the 24GB unified memory option by clicking on it.\\n\\nGiven what I have done, the 5-10 possible next steps to achieve the goal are: \\n1) click on the 2TB SSD storage option to select it\\n2) click on the 96W USB-C Power Adapter option to select it\\n3) select the keyboard language from the dropdown menu\\n4) click on the \"Learn more\" button for Final Cut Pro to get more information\\n5) click on the \"Learn more\" button for Logic Pro to get more information\\n6) click on the \"Add to Bag\" button to proceed with the order\\n7) click on the \"Get delivery dates\" button to check delivery options\\n8) click on the \"Check availability\" button for in-store pickup\\n9) click on the \"Save for later\" button to keep the selections for later.\\n\\nNow I will predict the corresponding actions for the above goals without writing any further comments.', 'Currently I see the customization options for the 14-inch MacBook Pro. I have already selected the 24GB unified memory option by clicking on it.\\n\\nGiven what I have done, the 5-10 possible next steps to achieve the goal are: \\n1) click on the 2TB SSD storage option to select it\\n2) click on the 96W USB-C Power Adapter option to select it\\n3) select the keyboard language from the dropdown menu\\n4) click on the \"Learn more\" button for Final Cut Pro to get more information\\n5) click on the \"Learn more\" button for Logic Pro to get more information\\n6) click on the \"Add to Bag\" button to proceed with the order\\n7) click on the \"Get delivery dates\" button to check delivery options\\n8) click on the \"Check availability\" button for in-store pickup\\n9) click on the \"Save for later\" button to keep the selections for later.\\n\\nNow I will predict the corresponding actions for the above goals without writing any further comments.', 'Currently I see the customization options for the 14-inch MacBook Pro. I have already selected the 24GB unified memory option by clicking on it.\\n\\nGiven what I have done, the 5-10 possible next steps to achieve the goal are: \\n1) click on the 2TB SSD storage option to select it\\n2) click on the 96W USB-C Power Adapter option to select it\\n3) select the keyboard language from the dropdown menu\\n4) click on the \"Learn more\" button for Final Cut Pro to get more information\\n5) click on the \"Learn more\" button for Logic Pro to get more information\\n6) click on the \"Add to Bag\" button to proceed with the order\\n7) click on the \"Get delivery dates\" button to check delivery options\\n8) click on the \"Check availability\" button for in-store pickup\\n9) click on the \"Save for later\" button to keep the selections for later.\\n\\nNow I will predict the corresponding actions for the above goals without writing any further comments.', 'Currently I see the customization options for the 14-inch MacBook Pro. I have already selected the 24GB unified memory option by clicking on it.\\n\\nGiven what I have done, the 5-10 possible next steps to achieve the goal are: \\n1) click on the 2TB SSD storage option to select it\\n2) click on the 96W USB-C Power Adapter option to select it\\n3) select the keyboard language from the dropdown menu\\n4) click on the \"Learn more\" button for Final Cut Pro to get more information\\n5) click on the \"Learn more\" button for Logic Pro to get more information\\n6) click on the \"Add to Bag\" button to proceed with the order\\n7) click on the \"Get delivery dates\" button to check delivery options\\n8) click on the \"Check availability\" button for in-store pickup\\n9) click on the \"Save for later\" button to keep the selections for later.\\n\\nNow I will predict the corresponding actions for the above goals without writing any further comments.', 'Currently I see the customization options for the 14-inch MacBook Pro. I have already selected the 24GB unified memory option by clicking on it.\\n\\nGiven what I have done, the 5-10 possible next steps to achieve the goal are: \\n1) click on the 2TB SSD storage option to select it\\n2) click on the 96W USB-C Power Adapter option to select it\\n3) select the keyboard language from the dropdown menu\\n4) click on the \"Learn more\" button for Final Cut Pro to get more information\\n5) click on the \"Learn more\" button for Logic Pro to get more information\\n6) click on the \"Add to Bag\" button to proceed with the order\\n7) click on the \"Get delivery dates\" button to check delivery options\\n8) click on the \"Check availability\" button for in-store pickup\\n9) click on the \"Save for later\" button to keep the selections for later.\\n\\nNow I will predict the corresponding actions for the above goals without writing any further comments.', 'Currently I see the customization options for the 14-inch MacBook Pro. I have already selected the 24GB unified memory option by clicking on it.\\n\\nGiven what I have done, the 5-10 possible next steps to achieve the goal are: \\n1) click on the 2TB SSD storage option to select it\\n2) click on the 96W USB-C Power Adapter option to select it\\n3) select the keyboard language from the dropdown menu\\n4) click on the \"Learn more\" button for Final Cut Pro to get more information\\n5) click on the \"Learn more\" button for Logic Pro to get more information\\n6) click on the \"Add to Bag\" button to proceed with the order\\n7) click on the \"Get delivery dates\" button to check delivery options\\n8) click on the \"Check availability\" button for in-store pickup\\n9) click on the \"Save for later\" button to keep the selections for later.\\n\\nNow I will predict the corresponding actions for the above goals without writing any further comments.', 'Currently I see the customization options for the 14-inch MacBook Pro. I have already selected the 24GB unified memory option by clicking on it.\\n\\nGiven what I have done, the 5-10 possible next steps to achieve the goal are: \\n1) click on the 2TB SSD storage option to select it\\n2) click on the 96W USB-C Power Adapter option to select it\\n3) select the keyboard language from the dropdown menu\\n4) click on the \"Learn more\" button for Final Cut Pro to get more information\\n5) click on the \"Learn more\" button for Logic Pro to get more information\\n6) click on the \"Add to Bag\" button to proceed with the order\\n7) click on the \"Get delivery dates\" button to check delivery options\\n8) click on the \"Check availability\" button for in-store pickup\\n9) click on the \"Save for later\" button to keep the selections for later.\\n\\nNow I will predict the corresponding actions for the above goals without writing any further comments.', 'Currently I see the customization options for the 14-inch MacBook Pro. I have already selected the 24GB unified memory option by clicking on it.\\n\\nGiven what I have done, the 5-10 possible next steps to achieve the goal are: \\n1) click on the 2TB SSD storage option to select it\\n2) click on the 96W USB-C Power Adapter option to select it\\n3) select the keyboard language from the dropdown menu\\n4) click on the \"Learn more\" button for Final Cut Pro to get more information\\n5) click on the \"Learn more\" button for Logic Pro to get more information\\n6) click on the \"Add to Bag\" button to proceed with the order\\n7) click on the \"Get delivery dates\" button to check delivery options\\n8) click on the \"Check availability\" button for in-store pickup\\n9) click on the \"Save for later\" button to keep the selections for later.\\n\\nNow I will predict the corresponding actions for the above goals without writing any further comments.']\n",
      "[51, 36, 32, 39, 37, 31, 33, 36, 36]\n",
      "['click(1049)', 'click(1072)', 'click(1100)', 'click(1123)', 'click(1209)']\n",
      "['Currently, I see the options for memory and storage configurations for the MacBook Pro. Given that I have already selected 24GB unified memory and 2TB SSD storage, I need to proceed with the next steps to finalize the order.\\n\\nThe 5 possible next steps to achieve the goal are:\\n1) Click on the button to select the power adapter option.\\n2) Click on the button to select the keyboard language.\\n3) Click on the button to learn more about Final Cut Pro.\\n4) Click on the button to learn more about Logic Pro.\\n5) Click on the \"Add to Bag\" button to proceed with the purchase.\\n\\nNow I will predict the corresponding actions for the above goals without writing any further comments.', 'Currently, I see the options for memory and storage configurations for the MacBook Pro. Given that I have already selected 24GB unified memory and 2TB SSD storage, I need to proceed with the next steps to finalize the order.\\n\\nThe 5 possible next steps to achieve the goal are:\\n1) Click on the button to select the power adapter option.\\n2) Click on the button to select the keyboard language.\\n3) Click on the button to learn more about Final Cut Pro.\\n4) Click on the button to learn more about Logic Pro.\\n5) Click on the \"Add to Bag\" button to proceed with the purchase.\\n\\nNow I will predict the corresponding actions for the above goals without writing any further comments.', 'Currently, I see the options for memory and storage configurations for the MacBook Pro. Given that I have already selected 24GB unified memory and 2TB SSD storage, I need to proceed with the next steps to finalize the order.\\n\\nThe 5 possible next steps to achieve the goal are:\\n1) Click on the button to select the power adapter option.\\n2) Click on the button to select the keyboard language.\\n3) Click on the button to learn more about Final Cut Pro.\\n4) Click on the button to learn more about Logic Pro.\\n5) Click on the \"Add to Bag\" button to proceed with the purchase.\\n\\nNow I will predict the corresponding actions for the above goals without writing any further comments.', 'Currently, I see the options for memory and storage configurations for the MacBook Pro. Given that I have already selected 24GB unified memory and 2TB SSD storage, I need to proceed with the next steps to finalize the order.\\n\\nThe 5 possible next steps to achieve the goal are:\\n1) Click on the button to select the power adapter option.\\n2) Click on the button to select the keyboard language.\\n3) Click on the button to learn more about Final Cut Pro.\\n4) Click on the button to learn more about Logic Pro.\\n5) Click on the \"Add to Bag\" button to proceed with the purchase.\\n\\nNow I will predict the corresponding actions for the above goals without writing any further comments.', 'Currently, I see the options for memory and storage configurations for the MacBook Pro. Given that I have already selected 24GB unified memory and 2TB SSD storage, I need to proceed with the next steps to finalize the order.\\n\\nThe 5 possible next steps to achieve the goal are:\\n1) Click on the button to select the power adapter option.\\n2) Click on the button to select the keyboard language.\\n3) Click on the button to learn more about Final Cut Pro.\\n4) Click on the button to learn more about Logic Pro.\\n5) Click on the \"Add to Bag\" button to proceed with the purchase.\\n\\nNow I will predict the corresponding actions for the above goals without writing any further comments.']\n",
      "[10, 11, 10, 10, 9]\n",
      "\n",
      "Best trajectory:['click(1008)', 'click(1039)', 'click(1209)']\n",
      "Score: 0\n"
     ]
    }
   ],
   "source": [
    "best_c = copy.deepcopy(root)\n",
    "while best_c.children:\n",
    "    print([c.actions[-1] for c in best_c.children])\n",
    "    print([c.thoughts[-1] for c in best_c.children])\n",
    "    # print([c.beta for c in best_c.children])\n",
    "    print([c.visits for c in best_c.children])\n",
    "    best_c = best_c.select_arm(greedy=True)\n",
    "print(f\"\\nBest trajectory:{best_c.actions}\\nScore: {get_t_value(best_c.actions)}\")"
   ]
  }
 ],
 "metadata": {
  "kernelspec": {
   "display_name": "agents",
   "language": "python",
   "name": "python3"
  },
  "language_info": {
   "codemirror_mode": {
    "name": "ipython",
    "version": 3
   },
   "file_extension": ".py",
   "mimetype": "text/x-python",
   "name": "python",
   "nbconvert_exporter": "python",
   "pygments_lexer": "ipython3",
   "version": "3.12.4"
  }
 },
 "nbformat": 4,
 "nbformat_minor": 2
}
