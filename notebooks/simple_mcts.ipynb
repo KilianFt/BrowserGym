{
 "cells": [
  {
   "cell_type": "markdown",
   "metadata": {},
   "source": [
    "# Simple MCTS\n",
    "This notebook investigates using MCTS for a single static website where multiple actions have to be done to achieve an answer.\n",
    "\n",
    "The task is to order a macbook with certain configurations. This website was chosen over others because it does not change upon selecting certain elements, which substantially simplifies testing as a website can simply be cached.\n",
    "\n",
    "The start domain is [this page](https://www.apple.com/shop/buy-mac/macbook-pro/14-inch-space-gray-apple-m3-chip-with-8-core-cpu-and-10-core-gpu-8gb-memory-512gb) with the prompt \"order a macbook pro 14 with 24 gb, 2 tb, fast charging and all available software\"\n",
    "\n",
    "Command to run this:\n",
    "```\n",
    "python run_demo.py --task_name openended --model_name openai/gpt-4o-mini --start_url https://www.apple.com/shop/buy-mac/macbook-pro/14-inch-space-gray-apple-m3-chip-with-8-core-cpu-and-10-core-gpu-8gb-memory-512gb\n",
    "```"
   ]
  },
  {
   "cell_type": "markdown",
   "metadata": {},
   "source": [
    "## Setup and load cached website"
   ]
  },
  {
   "cell_type": "code",
   "execution_count": 477,
   "metadata": {},
   "outputs": [],
   "source": [
    "website = \"https://www.apple.com/shop/buy-mac/macbook-pro/14-inch-space-gray-apple-m3-chip-with-8-core-cpu-and-10-core-gpu-8gb-memory-512gb\"\n",
    "\n",
    "human_prompt = \"order a macbook pro 14 with 24 gb ram, 2 tb, fast charging and all available software\""
   ]
  },
  {
   "cell_type": "code",
   "execution_count": 2,
   "metadata": {},
   "outputs": [],
   "source": [
    "# ideal actions are:\n",
    "# ideal_actions = [\n",
    "#     \"click(1007)\",  # Select 24GB unified memory\n",
    "#     \"click(1038)\",  # Select 2TB SSD storage\n",
    "#     \"click(1061)\",  # Select 96W USB-C Power Adapter\n",
    "#     \"click(1112)\",  # Select Final Cut Pro software\n",
    "#     \"click(1135)\",  # Select Logic Pro software\n",
    "#     \"click(1209)\",  # Add to bag\n",
    "# ]\n",
    "ideal_actions = [\n",
    "    'click(1008)',\n",
    "    'click(1039)',\n",
    "    'click(1062)',\n",
    "    'click(1113)',\n",
    "    'click(1136)',\n",
    "    'click(1209)'\n",
    "    ]"
   ]
  },
  {
   "cell_type": "code",
   "execution_count": 80,
   "metadata": {},
   "outputs": [],
   "source": [
    "txt_file = \"../output_example_2.txt\"\n",
    "with open(txt_file, 'r') as file:\n",
    "    lines = file.readlines()\n",
    "\n",
    "system_messages = []\n",
    "prompts = []\n",
    "actions = []\n",
    "\n",
    "current_section = None\n",
    "\n",
    "for line in lines:\n",
    "    if line.startswith(\"System Message:\"):\n",
    "        current_section = \"System Message\"\n",
    "    elif line.startswith(\"Prompt:\"):\n",
    "        current_section = \"Prompt\"\n",
    "    elif line.startswith(\"Action:\"):\n",
    "        current_section = \"Action\"\n",
    "    else:\n",
    "        if current_section == \"System Message\":\n",
    "            system_messages.append(line)\n",
    "        elif current_section == \"Prompt\":\n",
    "            prompts.append(line)\n",
    "        elif current_section == \"Action\":\n",
    "            actions.append(line)\n",
    "\n",
    "system_prompt = system_messages[0].split(\"content='\")[-1].strip()\n",
    "base_prompt = prompts[0].split(\"content=\\'\")[-1].strip()\n",
    "# ideal_actions = actions[:6]"
   ]
  },
  {
   "cell_type": "code",
   "execution_count": 81,
   "metadata": {},
   "outputs": [],
   "source": [
    "import sys\n",
    "sys.path.append(\"../demo_agent\")\n",
    "from agents.legacy.dynamic_prompting import Think, Memory, ActionSpace, Flags\n",
    "\n",
    "flags=Flags(\n",
    "    use_html=True,\n",
    "    use_ax_tree=True,\n",
    "    use_thinking=True,  # \"Enable the agent with a memory (scratchpad).\"\n",
    "    use_error_logs=True,  # \"Prompt the agent with the error logs.\"\n",
    "    use_memory=False,  # \"Enables the agent with a memory (scratchpad).\"\n",
    "    use_history=True,\n",
    "    use_diff=False,  # \"Prompt the agent with the difference between the current and past observation.\"\n",
    "    use_past_error_logs=True,  # \"Prompt the agent with the past error logs.\"\n",
    "    use_action_history=True,  # \"Prompt the agent with the action history.\"\n",
    "    multi_actions=True,\n",
    "    action_space=\"bid\",\n",
    "    use_abstract_example=True,  # \"Prompt the agent with an abstract example.\"\n",
    "    use_concrete_example=True,  # \"Prompt the agent with a concrete example.\"\n",
    "    use_screenshot=False,\n",
    "    enable_chat=True,\n",
    "    demo_mode=\"default\",\n",
    ")\n",
    "\n",
    "think = Think(visible=lambda: flags.use_thinking)\n",
    "memory = Memory(visible=lambda: flags.use_memory)\n",
    "action_space = ActionSpace(flags)\n",
    "\n",
    "def parser(text_answer):\n",
    "    ans_dict = {}\n",
    "    try:\n",
    "        ans_dict.update(think._parse_answer(text_answer))\n",
    "        ans_dict.update(memory._parse_answer(text_answer))\n",
    "        ans_dict.update(action_space._parse_answer(text_answer))\n",
    "    except Exception as e:\n",
    "        ans_dict['action'] = None\n",
    "        ans_dict['think'] = None\n",
    "\n",
    "    return ans_dict, True, \"\""
   ]
  },
  {
   "cell_type": "code",
   "execution_count": 177,
   "metadata": {},
   "outputs": [],
   "source": [
    "from langchain_openai import ChatOpenAI\n",
    "from langchain.schema import HumanMessage, SystemMessage\n",
    "\n",
    "\n",
    "with open(\"../openai_key.txt\", \"r\") as file:\n",
    "    api_key = file.read().strip()\n",
    "\n",
    "model = ChatOpenAI(\n",
    "            model_name=\"gpt-4o-mini\",\n",
    "            temperature=0.01,\n",
    "            max_tokens=2_000,\n",
    "            api_key=api_key\n",
    "        ).bind(logprobs=True)"
   ]
  },
  {
   "cell_type": "markdown",
   "metadata": {},
   "source": [
    "## Preliminaries: clean html and build prompts"
   ]
  },
  {
   "cell_type": "code",
   "execution_count": 83,
   "metadata": {},
   "outputs": [],
   "source": [
    "import re\n",
    "from html.parser import HTMLParser\n",
    "\n",
    "class HTMLCleaner(HTMLParser):\n",
    "    def __init__(self):\n",
    "        super().__init__()\n",
    "        self.output = []\n",
    "        self.tag_stack = []\n",
    "        self.current_content = []\n",
    "        self.interactive_elements = {\n",
    "            'a', 'button', 'input', 'select', 'textarea', 'label', 'fieldset',\n",
    "            'legend', 'datalist', 'output', 'option', 'optgroup'\n",
    "        }\n",
    "\n",
    "    def is_interactive(self, tag, attrs):\n",
    "        if tag.lower() in self.interactive_elements:\n",
    "            return True\n",
    "        return any(attr[0] == 'onclick' for attr in attrs)\n",
    "\n",
    "    def handle_starttag(self, tag, attrs):\n",
    "        if tag.lower() == 'img':\n",
    "            return\n",
    "        \n",
    "        is_interactive = self.is_interactive(tag, attrs)\n",
    "        bid_attr = next((attr for attr in attrs if attr[0] == 'bid'), None)\n",
    "        \n",
    "        if bid_attr and not is_interactive:\n",
    "            bid_attr = None\n",
    "\n",
    "        self.tag_stack.append((tag, bid_attr, len(self.output)))\n",
    "        self.current_content.append([])\n",
    "\n",
    "    def handle_endtag(self, tag):\n",
    "        if tag.lower() == 'img':\n",
    "            return\n",
    "\n",
    "        if self.tag_stack and self.tag_stack[-1][0] == tag:\n",
    "            start_tag, bid_attr, start_index = self.tag_stack.pop()\n",
    "            content = ''.join(self.current_content.pop()).strip()\n",
    "\n",
    "            if content:\n",
    "                if bid_attr:\n",
    "                    self.output.insert(start_index, f'<{start_tag} bid=\"{bid_attr[1]}\">')\n",
    "                else:\n",
    "                    self.output.insert(start_index, f'<{start_tag}>')\n",
    "                self.output.append(content)\n",
    "                self.output.append(f'</{tag}>')\n",
    "\n",
    "            if self.current_content:\n",
    "                self.current_content[-1].extend(self.output[start_index:])\n",
    "                del self.output[start_index:]\n",
    "\n",
    "    def handle_data(self, data):\n",
    "        normalized_data = re.sub(r'(\\\\n|\\n|\\r)+', '', data)\n",
    "        normalized_data = re.sub(r'\\s+', ' ', normalized_data)\n",
    "        if self.current_content:\n",
    "            self.current_content[-1].append(normalized_data)\n",
    "        else:\n",
    "            self.output.append(normalized_data)\n",
    "\n",
    "def clean_html(html_content):\n",
    "    html_content = html_content.replace('\\\\n', '\\n')\n",
    "    cleaner = HTMLCleaner()\n",
    "    cleaner.feed(html_content)\n",
    "    return ''.join(cleaner.output).strip()"
   ]
  },
  {
   "cell_type": "code",
   "execution_count": 84,
   "metadata": {},
   "outputs": [
    {
     "data": {
      "text/plain": [
       "(288727, 32333)"
      ]
     },
     "execution_count": 84,
     "metadata": {},
     "output_type": "execute_result"
    }
   ],
   "source": [
    "html = base_prompt.split(\"# \")[4]\n",
    "c_html = clean_html(html)\n",
    "len(html), len(c_html)"
   ]
  },
  {
   "cell_type": "code",
   "execution_count": 85,
   "metadata": {},
   "outputs": [
    {
     "data": {
      "text/plain": [
       "True"
      ]
     },
     "execution_count": 85,
     "metadata": {},
     "output_type": "execute_result"
    }
   ],
   "source": [
    "all([ia[6:10] in c_html for ia in ideal_actions])"
   ]
  },
  {
   "cell_type": "code",
   "execution_count": 202,
   "metadata": {},
   "outputs": [],
   "source": [
    "concrete_example = \"\"\"\n",
    "Concrete Example:\\\\n\\\\nHere is a concrete example of how to think about next options.\n",
    "Make sure you follow this structure, but replace the content with your answer.\n",
    "\\\\n\\\\n<think>\\\\n\n",
    "Currently I see xxx on the page. The possible next steps to achieve the goal are: \n",
    "1) click on the extra memory button \n",
    "2) expand the list with bid 2341 \n",
    "3) fill in field yyy with zzz \n",
    "4) click on the field that completes the order \n",
    "5) select the option u \n",
    "6) click no the home button \n",
    "7) return to the latest page \n",
    "8) select dropdown to search for option yyy \n",
    "9) click button n for xx\n",
    "10) finish the task by clicking on the final button.\\\\n \n",
    "Now I will predict the corresponding actions for the above goals.\n",
    "\\\\n</think>\\\\n\\\\n<action>\\\\\n",
    "click(648)\n",
    "click(2341)\n",
    "fill(yyy, zzz)\n",
    "click(123)\n",
    "click(456)\n",
    "click(789)\n",
    "click(1011)\n",
    "click(1213)\n",
    "click(1415)\n",
    "click(3214)\n",
    "\\\\n</action>\\\\n\\\\n\n",
    "\"\"\""
   ]
  },
  {
   "cell_type": "code",
   "execution_count": 260,
   "metadata": {},
   "outputs": [],
   "source": [
    "simple_action_space = \"\"\"Action space:\\\\n\\\\1 type of actions are available.\\\\n\\\\nclick(bid: int)\\\\n    Description: Click an element.\\\\n    Examples:\\\\n        click(\\\\\\'151\\\\\\')\\\\n\\\\n    Multiple actions can be provided at once, but will be executed sequentially without any feedback from the page.\\\\nExample:\\\\nfill(\\\\\\'a12\\\\\\', \\\\\\'example with \"quotes\"\\\\\\')\\\\nclick(\\\\\\'a51\\\\\\')\\\\nclick(\\\\\\'48\\\\\\', button=\\\\\\'middle\\\\\\', modifiers=[\\\\\\'Shift\\\\\\'])\\\\n\\\\n\"\"\"\n",
    "\n",
    "def build_action_prompt(base_prompt, actions, thoughts):\n",
    "    base_splits = base_prompt.split(\"# \")\n",
    "    # change html obs\n",
    "    html = base_splits[4][7:]\n",
    "    base_splits[4] = \"HTML:\" + clean_html(html)\n",
    "\n",
    "    hist_split = base_splits[6]\n",
    "    hist_instruction = hist_split[:-4]\n",
    "    hist_end = hist_split[-4:]\n",
    "    new_hist = hist_instruction + \" Actions: [\" + \", \".join(actions) + \"]; Thoughts [\" + \", \".join(thoughts) + \"]\" + hist_end\n",
    "    base_splits[6] = new_hist\n",
    "    base_splits[7] = simple_action_space\n",
    "    base_splits[8] = \"\"\n",
    "    base_splits[9] = concrete_example\n",
    "    new_prompt = \"# \".join(base_splits)\n",
    "    new_prompt += \" # Final Instruction: Given that the last actions are: \" + \", \".join(actions) + \", what are possible next actions? Do not pick an action that you already tried.\"\n",
    "    return new_prompt"
   ]
  },
  {
   "cell_type": "code",
   "execution_count": 182,
   "metadata": {},
   "outputs": [
    {
     "data": {
      "text/plain": [
       "'Concrete Example\\\\n\\\\nHere is a concrete example of how to format your answer.\\\\nMake sure to follow the template with proper tags:\\\\n\\\\n<think>\\\\nMy memory says that I filled the first name and last name, but I can\\\\\\'t see any\\\\ncontent in the form. I need to explore different ways to fill the form. Perhaps\\\\nthe form is not visible yet or some fields are disabled. I need to replan.\\\\n</think>\\\\n\\\\n<action>\\\\nfill(\\\\\\'a12\\\\\\', \\\\\\'example with \"quotes\"\\\\\\')\\\\nclick(\\\\\\'a51\\\\\\')\\\\nclick(\\\\\\'48\\\\\\', button=\\\\\\'middle\\\\\\', modifiers=[\\\\\\'Shift\\\\\\'])\\\\n</action>\\\\n\\''"
      ]
     },
     "execution_count": 182,
     "metadata": {},
     "output_type": "execute_result"
    }
   ],
   "source": [
    "base_prompt.split(\"# \")[9]"
   ]
  },
  {
   "cell_type": "code",
   "execution_count": 161,
   "metadata": {},
   "outputs": [],
   "source": [
    "# ground truth\n",
    "actions = []\n",
    "action_thoughts = []\n",
    "thoughts = []\n",
    "\n",
    "new_prompt = build_action_prompt(base_prompt, actions, action_thoughts, thoughts)\n",
    "chat_messages = [\n",
    "    SystemMessage(content=system_prompt),\n",
    "    HumanMessage(content=new_prompt+\"Think about what to do and then predict all actions at once to complete the task.\"),\n",
    "]\n",
    "out = model.invoke(chat_messages)\n",
    "ans_dict = parser(out.content)"
   ]
  },
  {
   "cell_type": "code",
   "execution_count": 162,
   "metadata": {},
   "outputs": [
    {
     "name": "stdout",
     "output_type": "stream",
     "text": [
      "Predicted:\n",
      "click('1008')  # Select 24GB unified memory\n",
      "click('1039')  # Select 2TB SSD storage\n",
      "click('1113')  # Select Final Cut Pro\n",
      "click('1136')  # Select Logic Pro\n",
      "click('1209')  # Add to Bag\n",
      "\n",
      "Ideal:\n",
      "['click(1008)', 'click(1039)', 'click(1062)', 'click(1113)', 'click(1136)', 'click(1209)']\n"
     ]
    }
   ],
   "source": [
    "print(f\"Predicted:\\n{ans_dict[0]['action']}\")\n",
    "print(f\"\\nIdeal:\\n{ideal_actions}\")"
   ]
  },
  {
   "cell_type": "code",
   "execution_count": 222,
   "metadata": {},
   "outputs": [
    {
     "name": "stdout",
     "output_type": "stream",
     "text": [
      "Failed to find all parts of the target string. Remaining: click('1008')\n",
      "Relevant tokens:\n",
      "Failed to find all parts of the target string. Remaining: click('1008')\n",
      "\n",
      "Combined logprob: 0\n",
      "Combined probability: 1.0\n"
     ]
    }
   ],
   "source": [
    "import math\n",
    "import copy\n",
    "\n",
    "def get_relevant_tokens(tokens_data, target_string):\n",
    "    relevant_tokens = []\n",
    "    remaining = copy.deepcopy(target_string)\n",
    "    started = False\n",
    "    \n",
    "    for token_data in tokens_data:\n",
    "        if remaining.startswith(token_data['token']):\n",
    "            started = True\n",
    "            relevant_tokens.append(token_data)\n",
    "            remaining = remaining[len(token_data['token']):]\n",
    "            if not remaining:  # We've found all parts of the target string\n",
    "                break\n",
    "        else:\n",
    "            # case if only a part but not the whole is found\n",
    "            if started:\n",
    "                remaining = copy.deepcopy(target_string)\n",
    "                relevant_tokens = []\n",
    "                started = False\n",
    "    \n",
    "    if remaining:\n",
    "        print(f\"Failed to find all parts of the target string. Remaining: {remaining}\")\n",
    "\n",
    "    return relevant_tokens\n",
    "\n",
    "def get_string_probs(tokens_data, target_string):\n",
    "    relevant_tokens = get_relevant_tokens(tokens_data, target_string)\n",
    "    combined_logprob = sum(token['logprob'] for token in relevant_tokens)\n",
    "    combined_probability = math.exp(combined_logprob)\n",
    "    return combined_logprob, combined_probability\n",
    "\n",
    "tokens_data = out.response_metadata['logprobs']['content']\n",
    "target_string = \"click('1008')\"\n",
    "\n",
    "relevant_tokens = get_relevant_tokens(tokens_data, target_string)\n",
    "\n",
    "print(\"Relevant tokens:\")\n",
    "for token in relevant_tokens:\n",
    "    print(f\"Token: {token['token']}, LogProb: {token['logprob']}\")\n",
    "\n",
    "combined_logprob, combined_probability = get_string_probs(tokens_data, target_string)\n",
    "\n",
    "print(f\"\\nCombined logprob: {combined_logprob}\")\n",
    "print(f\"Combined probability: {combined_probability}\")"
   ]
  },
  {
   "cell_type": "code",
   "execution_count": 261,
   "metadata": {},
   "outputs": [],
   "source": [
    "def expand_predict(actions, thoughts):\n",
    "    new_prompt = build_action_prompt(base_prompt, actions, thoughts)\n",
    "    chat_messages = [\n",
    "        SystemMessage(content=system_prompt+\" Only predict the next step and not the whole plan at once. Give the 10 most likely options for the next step.\"),\n",
    "        HumanMessage(content=new_prompt),\n",
    "    ]\n",
    "    out = model.invoke(chat_messages)\n",
    "    ans_dict = parser(out.content)\n",
    "    thought = ans_dict[0]['think']\n",
    "    actions = ans_dict[0]['action'].split(\"\\n\")\n",
    "\n",
    "    action_probs = []\n",
    "    for act_string in actions:\n",
    "        # target_string = act_string[6:10]\n",
    "        target_string = act_string + \"\\n\"\n",
    "        combined_logprob, combined_probability = get_string_probs(tokens_data, target_string)\n",
    "        action_probs.append(combined_probability)\n",
    "\n",
    "    return actions, thought, action_probs"
   ]
  },
  {
   "cell_type": "code",
   "execution_count": 262,
   "metadata": {},
   "outputs": [],
   "source": [
    "actions = []\n",
    "thoughts = []\n",
    "actions, thought, action_probs = expand_predict(actions, thoughts)"
   ]
  },
  {
   "cell_type": "code",
   "execution_count": 264,
   "metadata": {},
   "outputs": [
    {
     "data": {
      "text/plain": [
       "(['click(1008)',\n",
       "  'click(1039)',\n",
       "  'click(1062)',\n",
       "  'click(1113)',\n",
       "  'click(1136)',\n",
       "  'click(1209)',\n",
       "  'click(1168)',\n",
       "  'click(1177)',\n",
       "  'click(1150)',\n",
       "  'click(945)'],\n",
       " [0.6754329689296937,\n",
       "  0.9999404599163011,\n",
       "  0.9999037032548292,\n",
       "  0.9920437300749845,\n",
       "  0.9990625427459154,\n",
       "  0.9998538150977743,\n",
       "  0.9912863544603184,\n",
       "  0.9999844444153894,\n",
       "  0.9999767707355536,\n",
       "  0.9998361345782552])"
      ]
     },
     "execution_count": 264,
     "metadata": {},
     "output_type": "execute_result"
    }
   ],
   "source": [
    "actions, action_probs"
   ]
  },
  {
   "cell_type": "markdown",
   "metadata": {},
   "source": [
    "Log-probs are kinda arbitrary, it seems like the first is quite low whereas the rest is pretty high. It does not really represent the probability of taking the action but rather the probability that this is generated next which seems to be pretty different as click(1008) would be the logically best option."
   ]
  },
  {
   "cell_type": "code",
   "execution_count": 10,
   "metadata": {},
   "outputs": [],
   "source": [
    "# TODO\n",
    "# def greedy_predict(action_prompt):\n",
    "#     chat_messages = [\n",
    "#         SystemMessage(content=system_prompt),\n",
    "#         HumanMessage(content=action_prompt),\n",
    "#     ]\n",
    "#     answer = greedy_llm.invoke(chat_messages)\n",
    "#     return answer"
   ]
  },
  {
   "cell_type": "markdown",
   "metadata": {},
   "source": [
    "## Build MCTS"
   ]
  },
  {
   "cell_type": "code",
   "execution_count": 3,
   "metadata": {},
   "outputs": [
    {
     "data": {
      "text/plain": [
       "['click(1008)',\n",
       " 'click(1039)',\n",
       " 'click(1062)',\n",
       " 'click(1113)',\n",
       " 'click(1136)',\n",
       " 'click(1209)']"
      ]
     },
     "execution_count": 3,
     "metadata": {},
     "output_type": "execute_result"
    }
   ],
   "source": [
    "ideal_actions"
   ]
  },
  {
   "cell_type": "code",
   "execution_count": 4,
   "metadata": {},
   "outputs": [],
   "source": [
    "def expand_predict(actions, thoughts):\n",
    "    new_actions = [\n",
    "        'click(1008)',\n",
    "        'click(4351)',\n",
    "        'click(1039)',\n",
    "        'click(4351)',\n",
    "        'click(1062)',\n",
    "        'click(2135)',\n",
    "        'click(5432)',\n",
    "        'click(1113)',\n",
    "        'click(1136)',\n",
    "        'click(1209)'\n",
    "    ]\n",
    "    thought = \"hi\"\n",
    "    logprobs = [1.0] * 10\n",
    "    return new_actions, thought, logprobs"
   ]
  },
  {
   "cell_type": "code",
   "execution_count": 7,
   "metadata": {},
   "outputs": [],
   "source": [
    "import random\n",
    "import copy\n",
    "import math\n",
    "import numpy as np\n",
    "import torch\n",
    "from torch.distributions import Beta"
   ]
  },
  {
   "cell_type": "code",
   "execution_count": 110,
   "metadata": {},
   "outputs": [],
   "source": [
    "class Node:\n",
    "    def __init__(self, actions, thoughts, parent=None, depth=0):\n",
    "        self.actions = actions\n",
    "        self.thoughts = thoughts\n",
    "        self.parent = parent\n",
    "        self.children = []\n",
    "        self.visits = 0\n",
    "        self.depth = depth\n",
    "\n",
    "\n",
    "class UCBNode(Node):\n",
    "    def __init__(self, actions, thoughts, parent=None, depth=0, alpha=1.0):\n",
    "        super().__init__(actions, thoughts, parent, depth)\n",
    "        self.value = np.inf\n",
    "        self.alpha = alpha\n",
    "\n",
    "    def expand(self):\n",
    "        arms, thought, action_probs = expand_predict(self.actions, self.thoughts)\n",
    "        self.children = [UCBNode(self.actions + [arm],\n",
    "                                      self.thoughts + [thought],\n",
    "                                      parent=self,\n",
    "                                      depth=self.depth+1) for arm in arms]\n",
    "\n",
    "    def ucb_score(self, node: Node, total_visits: int) -> float:\n",
    "        if node.visits == 0:\n",
    "            return float('inf')\n",
    "        return (node.value / node.visits) + self.alpha * math.sqrt(2 * math.log(total_visits) / node.visits)\n",
    "\n",
    "    def select_arm(self, greedy=False) -> Node:\n",
    "        if self.children is None:\n",
    "            return None\n",
    "        \n",
    "        if greedy:\n",
    "            scores = [c.visits for c in self.children]\n",
    "        else:\n",
    "            scores = [self.ucb_score(c, self.visits) for c in self.children]\n",
    "        max_score = max(scores)\n",
    "        max_children = [c for c, s in zip(self.children, scores) if s == max_score]\n",
    "        return random.choice(max_children)\n",
    "\n",
    "    def update(self, reward):\n",
    "        self.visits += 1\n",
    "        if self.value == np.inf:\n",
    "            self.value = copy.deepcopy(reward)\n",
    "        else:\n",
    "            self.value += copy.deepcopy(reward)"
   ]
  },
  {
   "cell_type": "code",
   "execution_count": 81,
   "metadata": {},
   "outputs": [],
   "source": [
    "class ThompsonNode(Node):\n",
    "    def __init__(self, actions, thoughts, parent=None, depth=0):\n",
    "        super().__init__(actions, thoughts, parent, depth)\n",
    "        self.alpha = 1.0\n",
    "        self.beta = 1.0\n",
    "\n",
    "    def expand(self):\n",
    "        arms, thought, action_probs = expand_predict(self.actions, self.thoughts)\n",
    "        self.children = [ThompsonNode(self.actions + [arm],\n",
    "                                      self.thoughts + [thought],\n",
    "                                      parent=self,\n",
    "                                      depth=self.depth+1) for arm in arms]\n",
    "\n",
    "    def select_arm(self, greedy=False):\n",
    "        if self.children is None:\n",
    "            return None\n",
    "        \n",
    "        if greedy:\n",
    "            # Greedy selection based on mean of Beta distribution\n",
    "            means = [child.alpha / (child.alpha + child.beta) for child in self.children]\n",
    "            child_idx = means.index(max(means))\n",
    "        else:\n",
    "            # Thompson sampling\n",
    "            samples = [Beta(child.alpha, child.beta).sample().item() for child in self.children]\n",
    "            child_idx = samples.index(max(samples))\n",
    "        \n",
    "        return self.children[child_idx]\n",
    "\n",
    "    def update(self, reward):\n",
    "        self.visits += 1\n",
    "        self.alpha += reward\n",
    "        self.beta += (1 - reward)\n",
    "\n",
    "\n",
    "class GreedyNode(Node):\n",
    "    def __init__(self, actions, thoughts, parent=None, depth=0):\n",
    "        super().__init__(actions, thoughts, parent, depth)\n",
    "        self.value = np.inf\n",
    "\n",
    "    def expand(self):\n",
    "        arms, thought, action_probs = expand_predict(self.actions, self.thoughts)\n",
    "        self.children = [GreedyNode(self.actions + [arm],\n",
    "                                      self.thoughts + [thought],\n",
    "                                      parent=self,\n",
    "                                      depth=self.depth+1) for arm in arms]\n",
    "\n",
    "    def select_arm(self, greedy=True):\n",
    "        if self.children is None:\n",
    "            return None\n",
    "        \n",
    "        # always greedy\n",
    "        child_idx = np.argmax([child.value for child in self.children])\n",
    "        return self.children[child_idx]\n",
    "\n",
    "    def update(self, reward):\n",
    "        self.visits += 1\n",
    "        if self.value == np.inf:\n",
    "            self.value = reward\n",
    "        else:\n",
    "            self.value += reward"
   ]
  },
  {
   "cell_type": "code",
   "execution_count": 10,
   "metadata": {},
   "outputs": [],
   "source": [
    "# define tree helper functions\n",
    "def print_tree(node, indent=\"\"):\n",
    "    if len(node.actions) > 0:\n",
    "        print(f\"{indent}Action: {node.actions[-1]}\")\n",
    "        print(f\"{indent}Value: {node.value}\")\n",
    "    print(f\"{indent}Children: {len(node.children)}\")\n",
    "    for child in node.children:\n",
    "        print_tree(child, indent + \"  \")\n",
    "\n",
    "# create all possible trajectories of actions from tree\n",
    "def get_trajectories(node):\n",
    "    if not node.children:\n",
    "        return [[node.actions]]\n",
    "    \n",
    "    trajectories = []\n",
    "    for child in node.children:\n",
    "        child_trajectories = get_trajectories(child)\n",
    "        for trajectory in child_trajectories:\n",
    "            trajectories.append([node.actions] + trajectory)\n",
    "    \n",
    "    trajectories = [t[-1] for t in trajectories]\n",
    "    return trajectories"
   ]
  },
  {
   "cell_type": "code",
   "execution_count": 11,
   "metadata": {},
   "outputs": [],
   "source": [
    "def select(node: Node) -> Node:\n",
    "    while node.children:\n",
    "        node = node.select_arm()\n",
    "    return node\n",
    "\n",
    "def backpropagate(node: Node, reward: float):\n",
    "    while node:\n",
    "        node.update(reward)\n",
    "        node = node.parent"
   ]
  },
  {
   "cell_type": "code",
   "execution_count": 12,
   "metadata": {},
   "outputs": [
    {
     "data": {
      "text/plain": [
       "(1, 0, 1)"
      ]
     },
     "execution_count": 12,
     "metadata": {},
     "output_type": "execute_result"
    }
   ],
   "source": [
    "def get_t_value(trajectory):\n",
    "    score = 1\n",
    "    for a, b in zip(trajectory, ideal_actions):\n",
    "        if not a == b:\n",
    "            score = 0\n",
    "    return score\n",
    "\n",
    "t = ['click(1008)', 'click(1038)', 'click(1062)', 'click(1112)\\nclick(1136)']\n",
    "t2 = ['click(1008)', 'click(1039)']\n",
    "get_t_value(ideal_actions), get_t_value(t), get_t_value(t2)"
   ]
  },
  {
   "cell_type": "code",
   "execution_count": 111,
   "metadata": {},
   "outputs": [],
   "source": [
    "from tqdm import tqdm\n",
    "\n",
    "def mcts_like(root, max_depth, max_iters):\n",
    "    for iter_idx in tqdm(range(max_iters)):\n",
    "        selected_node = select(root)\n",
    "\n",
    "        # expansion + simulation\n",
    "        remaining_depth = max_depth - selected_node.depth\n",
    "\n",
    "        value = get_t_value(selected_node.actions)\n",
    "        # print(selected_node.actions, value)\n",
    "        backpropagate(selected_node, value)\n",
    "\n",
    "        if remaining_depth > 0 and value != 0.0:\n",
    "            for _ in range(remaining_depth):\n",
    "                selected_node.expand()\n",
    "                selected_node = select(selected_node)\n",
    "                # print(selected_node.actions)\n",
    "\n",
    "                value = get_t_value(selected_node.actions)\n",
    "                backpropagate(selected_node, value)\n",
    "                # print(selected_node.actions, value)\n",
    "\n",
    "                if value == 0.0:\n",
    "                    break\n",
    "\n",
    "        if value == 1.0 and selected_node.depth >= max_depth:\n",
    "            print(f\"Success at iter {iter_idx}\")\n",
    "            break\n",
    "\n",
    "    return root, iter_idx"
   ]
  },
  {
   "cell_type": "code",
   "execution_count": 154,
   "metadata": {},
   "outputs": [
    {
     "name": "stderr",
     "output_type": "stream",
     "text": [
      " 21%|██        | 42197/200000 [00:00<00:00, 202308.83it/s]\n"
     ]
    },
    {
     "name": "stdout",
     "output_type": "stream",
     "text": [
      "Success at iter 42197\n"
     ]
    },
    {
     "name": "stderr",
     "output_type": "stream",
     "text": [
      "  0%|          | 54/200000 [00:00<00:03, 57631.66it/s]\n"
     ]
    },
    {
     "name": "stdout",
     "output_type": "stream",
     "text": [
      "Success at iter 54\n"
     ]
    },
    {
     "name": "stderr",
     "output_type": "stream",
     "text": [
      " 15%|█▌        | 30990/200000 [00:16<01:28, 1902.39it/s]\n"
     ]
    },
    {
     "name": "stdout",
     "output_type": "stream",
     "text": [
      "Success at iter 30990\n"
     ]
    },
    {
     "name": "stderr",
     "output_type": "stream",
     "text": [
      " 75%|███████▌  | 150364/200000 [00:00<00:00, 227199.88it/s]\n"
     ]
    },
    {
     "name": "stdout",
     "output_type": "stream",
     "text": [
      "Success at iter 150364\n"
     ]
    },
    {
     "name": "stderr",
     "output_type": "stream",
     "text": [
      "  0%|          | 54/200000 [00:00<00:03, 52223.29it/s]\n"
     ]
    },
    {
     "name": "stdout",
     "output_type": "stream",
     "text": [
      "Success at iter 54\n"
     ]
    },
    {
     "name": "stderr",
     "output_type": "stream",
     "text": [
      " 11%|█         | 22466/200000 [00:11<01:34, 1875.55it/s]\n"
     ]
    },
    {
     "name": "stdout",
     "output_type": "stream",
     "text": [
      "Success at iter 22466\n"
     ]
    },
    {
     "name": "stderr",
     "output_type": "stream",
     "text": [
      "  1%|▏         | 2550/200000 [00:00<00:00, 223937.42it/s]\n"
     ]
    },
    {
     "name": "stdout",
     "output_type": "stream",
     "text": [
      "Success at iter 2550\n"
     ]
    },
    {
     "name": "stderr",
     "output_type": "stream",
     "text": [
      "  0%|          | 54/200000 [00:00<00:03, 59524.95it/s]\n"
     ]
    },
    {
     "name": "stdout",
     "output_type": "stream",
     "text": [
      "Success at iter 54\n"
     ]
    },
    {
     "name": "stderr",
     "output_type": "stream",
     "text": [
      " 16%|█▋        | 32778/200000 [00:17<01:27, 1902.09it/s]\n"
     ]
    },
    {
     "name": "stdout",
     "output_type": "stream",
     "text": [
      "Success at iter 32778\n"
     ]
    },
    {
     "name": "stderr",
     "output_type": "stream",
     "text": [
      " 80%|███████▉  | 159221/200000 [00:00<00:00, 234412.58it/s]\n"
     ]
    },
    {
     "name": "stdout",
     "output_type": "stream",
     "text": [
      "Success at iter 159221\n"
     ]
    },
    {
     "name": "stderr",
     "output_type": "stream",
     "text": [
      "  0%|          | 54/200000 [00:00<00:03, 55040.68it/s]\n"
     ]
    },
    {
     "name": "stdout",
     "output_type": "stream",
     "text": [
      "Success at iter 54\n"
     ]
    },
    {
     "name": "stderr",
     "output_type": "stream",
     "text": [
      " 10%|█         | 20661/200000 [00:11<01:35, 1871.85it/s]\n"
     ]
    },
    {
     "name": "stdout",
     "output_type": "stream",
     "text": [
      "Success at iter 20661\n"
     ]
    },
    {
     "name": "stderr",
     "output_type": "stream",
     "text": [
      "100%|██████████| 200000/200000 [00:00<00:00, 227227.76it/s]\n",
      "  0%|          | 54/200000 [00:00<00:03, 61781.89it/s]\n"
     ]
    },
    {
     "name": "stdout",
     "output_type": "stream",
     "text": [
      "Success at iter 54\n"
     ]
    },
    {
     "name": "stderr",
     "output_type": "stream",
     "text": [
      "  5%|▍         | 9012/200000 [00:04<01:37, 1949.63it/s]\n"
     ]
    },
    {
     "name": "stdout",
     "output_type": "stream",
     "text": [
      "Success at iter 9012\n"
     ]
    },
    {
     "name": "stderr",
     "output_type": "stream",
     "text": [
      " 75%|███████▌  | 150364/200000 [00:00<00:00, 233481.17it/s]\n"
     ]
    },
    {
     "name": "stdout",
     "output_type": "stream",
     "text": [
      "Success at iter 150364\n"
     ]
    },
    {
     "name": "stderr",
     "output_type": "stream",
     "text": [
      "  0%|          | 54/200000 [00:00<00:03, 58434.58it/s]\n"
     ]
    },
    {
     "name": "stdout",
     "output_type": "stream",
     "text": [
      "Success at iter 54\n"
     ]
    },
    {
     "name": "stderr",
     "output_type": "stream",
     "text": [
      " 23%|██▎       | 45654/200000 [00:24<01:21, 1891.74it/s]\n"
     ]
    },
    {
     "name": "stdout",
     "output_type": "stream",
     "text": [
      "Success at iter 45654\n"
     ]
    },
    {
     "name": "stderr",
     "output_type": "stream",
     "text": [
      "100%|██████████| 200000/200000 [00:00<00:00, 229801.27it/s]\n",
      "  0%|          | 54/200000 [00:00<00:03, 59013.14it/s]\n"
     ]
    },
    {
     "name": "stdout",
     "output_type": "stream",
     "text": [
      "Success at iter 54\n"
     ]
    },
    {
     "name": "stderr",
     "output_type": "stream",
     "text": [
      "  1%|          | 2108/200000 [00:01<01:41, 1945.42it/s]\n"
     ]
    },
    {
     "name": "stdout",
     "output_type": "stream",
     "text": [
      "Success at iter 2108\n"
     ]
    },
    {
     "name": "stderr",
     "output_type": "stream",
     "text": [
      "100%|██████████| 200000/200000 [00:00<00:00, 236488.54it/s]\n",
      "  0%|          | 54/200000 [00:00<00:03, 61280.42it/s]\n"
     ]
    },
    {
     "name": "stdout",
     "output_type": "stream",
     "text": [
      "Success at iter 54\n"
     ]
    },
    {
     "name": "stderr",
     "output_type": "stream",
     "text": [
      "  7%|▋         | 14800/200000 [00:07<01:35, 1932.44it/s]\n"
     ]
    },
    {
     "name": "stdout",
     "output_type": "stream",
     "text": [
      "Success at iter 14800\n"
     ]
    },
    {
     "name": "stderr",
     "output_type": "stream",
     "text": [
      "100%|██████████| 200000/200000 [00:00<00:00, 236287.90it/s]\n",
      "  0%|          | 54/200000 [00:00<00:03, 61563.58it/s]\n"
     ]
    },
    {
     "name": "stdout",
     "output_type": "stream",
     "text": [
      "Success at iter 54\n"
     ]
    },
    {
     "name": "stderr",
     "output_type": "stream",
     "text": [
      "  7%|▋         | 14380/200000 [00:07<01:38, 1880.02it/s]\n"
     ]
    },
    {
     "name": "stdout",
     "output_type": "stream",
     "text": [
      "Success at iter 14380\n"
     ]
    },
    {
     "name": "stderr",
     "output_type": "stream",
     "text": [
      "100%|██████████| 200000/200000 [00:00<00:00, 236829.92it/s]\n",
      "  0%|          | 54/200000 [00:00<00:03, 58890.38it/s]\n"
     ]
    },
    {
     "name": "stdout",
     "output_type": "stream",
     "text": [
      "Success at iter 54\n"
     ]
    },
    {
     "name": "stderr",
     "output_type": "stream",
     "text": [
      " 13%|█▎        | 26963/200000 [00:14<01:30, 1913.64it/s]"
     ]
    },
    {
     "name": "stdout",
     "output_type": "stream",
     "text": [
      "Success at iter 26963\n"
     ]
    },
    {
     "name": "stderr",
     "output_type": "stream",
     "text": [
      "\n"
     ]
    }
   ],
   "source": [
    "from collections import defaultdict\n",
    "\n",
    "max_depth = 6\n",
    "max_iters = 200_000\n",
    "\n",
    "n_experiments = 10\n",
    "\n",
    "experiment_results = defaultdict(list)\n",
    "\n",
    "for _ in range(n_experiments):\n",
    "    classes = [UCBNode, GreedyNode, ThompsonNode]\n",
    "    for cls in classes:\n",
    "        root = cls([], [])\n",
    "        root, iter_idx = mcts_like(root, max_depth, max_iters)\n",
    "        experiment_results[cls.__name__].append(iter_idx)"
   ]
  },
  {
   "cell_type": "code",
   "execution_count": 162,
   "metadata": {},
   "outputs": [
    {
     "data": {
      "image/png": "[encoded data removed]",
      "text/plain": [
       "<Figure size 1200x600 with 1 Axes>"
      ]
     },
     "metadata": {},
     "output_type": "display_data"
    }
   ],
   "source": [
    "import matplotlib.pyplot as plt\n",
    "\n",
    "# Create a list of results for boxplot\n",
    "data = list(experiment_results.values())\n",
    "\n",
    "plt.figure(figsize=(12, 6))\n",
    "plt.boxplot(data, tick_labels=['UCB', 'Greedy', 'Thompson'])\n",
    "\n",
    "plt.xlabel('MCTS Variant')\n",
    "plt.ylabel('Iterations to Success')\n",
    "plt.title('Comparison of MCTS Variants')\n",
    "plt.show()\n"
   ]
  },
  {
   "cell_type": "code",
   "execution_count": 152,
   "metadata": {},
   "outputs": [
    {
     "name": "stdout",
     "output_type": "stream",
     "text": [
      "['click(1008)', 'click(4351)', 'click(1039)', 'click(4351)', 'click(1062)', 'click(2135)', 'click(5432)', 'click(1113)', 'click(1136)', 'click(1209)']\n",
      "[3690, 1172, 1163, 1163, 1130, 1186, 1170, 1170, 1179, 1186]\n",
      "['click(1008)', 'click(4351)', 'click(1039)', 'click(4351)', 'click(1062)', 'click(2135)', 'click(5432)', 'click(1113)', 'click(1136)', 'click(1209)']\n",
      "[309, 302, 881, 311, 312, 305, 323, 316, 317, 313]\n",
      "['click(1008)', 'click(4351)', 'click(1039)', 'click(4351)', 'click(1062)', 'click(2135)', 'click(5432)', 'click(1113)', 'click(1136)', 'click(1209)']\n",
      "[79, 74, 84, 73, 176, 80, 82, 76, 78, 78]\n",
      "['click(1008)', 'click(4351)', 'click(1039)', 'click(4351)', 'click(1062)', 'click(2135)', 'click(5432)', 'click(1113)', 'click(1136)', 'click(1209)']\n",
      "[13, 16, 15, 16, 14, 17, 19, 32, 17, 16]\n",
      "['click(1008)', 'click(4351)', 'click(1039)', 'click(4351)', 'click(1062)', 'click(2135)', 'click(5432)', 'click(1113)', 'click(1136)', 'click(1209)']\n",
      "[3, 3, 2, 3, 3, 3, 3, 3, 5, 3]\n",
      "['click(1008)', 'click(4351)', 'click(1039)', 'click(4351)', 'click(1062)', 'click(2135)', 'click(5432)', 'click(1113)', 'click(1136)', 'click(1209)']\n",
      "[0, 0, 0, 0, 1, 2, 0, 0, 0, 1]\n",
      "\n",
      "Best trajectory:['click(1008)', 'click(1039)', 'click(1062)', 'click(1113)', 'click(1136)', 'click(1209)']\n",
      "Score: 1\n"
     ]
    }
   ],
   "source": [
    "best_c = copy.deepcopy(root)\n",
    "while best_c.children:\n",
    "    print([c.actions[-1] for c in best_c.children])\n",
    "    # print([c.value for c in best_c.children])\n",
    "    # print([c.beta for c in best_c.children])\n",
    "    print([c.visits for c in best_c.children])\n",
    "    best_c = best_c.select_arm(greedy=True)\n",
    "print(f\"\\nBest trajectory:{best_c.actions}\\nScore: {get_t_value(best_c.actions)}\")"
   ]
  }
 ],
 "metadata": {
  "kernelspec": {
   "display_name": "agents",
   "language": "python",
   "name": "python3"
  },
  "language_info": {
   "codemirror_mode": {
    "name": "ipython",
    "version": 3
   },
   "file_extension": ".py",
   "mimetype": "text/x-python",
   "name": "python",
   "nbconvert_exporter": "python",
   "pygments_lexer": "ipython3",
   "version": "3.12.4"
  }
 },
 "nbformat": 4,
 "nbformat_minor": 2
}
